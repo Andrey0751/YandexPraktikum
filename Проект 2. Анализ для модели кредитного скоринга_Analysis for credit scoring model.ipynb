{
 "cells": [
  {
   "cell_type": "markdown",
   "id": "76b62f58",
   "metadata": {},
   "source": [
    "# Проект 2. Анализ для модели кредитного скоринга"
   ]
  },
  {
   "cell_type": "markdown",
   "id": "f0e16c71",
   "metadata": {},
   "source": [
    "**Цель исследования** - проверить:\n",
    "\n",
    "Влияет ли семейное положение и количество детей клиента на факт погашения кредита в срок.\n",
    "\n",
    "**Задачи исследования** - проверить:\n",
    "\n",
    "* Есть ли зависимость между количеством детей и возвратом кредита в срок?\n",
    "* Есть ли зависимость между семейным положением и возвратом кредита в срок?\n",
    "* Есть ли зависимость между уровнем дохода и возвратом кредита в срок?\n",
    "* Как разные цели кредита влияют на его возврат в срок?"
   ]
  },
  {
   "cell_type": "markdown",
   "id": "8cce16a2",
   "metadata": {},
   "source": [
    "**Ход исследования**\n",
    "1. Обзор данных\n",
    "2. Предобработка данных\n",
    "3. Анализ данных и решение поставленных задач\n",
    "4. Итоги исследования"
   ]
  },
  {
   "cell_type": "markdown",
   "id": "2043f403",
   "metadata": {},
   "source": [
    "## Обзор данных"
   ]
  },
  {
   "cell_type": "markdown",
   "id": "9e3ad005",
   "metadata": {},
   "source": [
    "Импортируем библиотку pandas"
   ]
  },
  {
   "cell_type": "code",
   "execution_count": 1,
   "id": "48d58cb0",
   "metadata": {},
   "outputs": [],
   "source": [
    "import pandas as pd"
   ]
  },
  {
   "cell_type": "markdown",
   "id": "cea478d2",
   "metadata": {},
   "source": [
    "Сохраняем файл данных в переменную data"
   ]
  },
  {
   "cell_type": "code",
   "execution_count": 2,
   "id": "ec6c94cc",
   "metadata": {},
   "outputs": [],
   "source": [
    "data = pd.read_csv('D:\\Documents\\Python\\ЯПрактикум\\Проекты\\Проект 2 Кредиты\\data.csv')"
   ]
  },
  {
   "cell_type": "markdown",
   "id": "862f73d5",
   "metadata": {},
   "source": [
    "Выводим на экран первые 10 строк таблицы. \n",
    "\n",
    "Сразу заметна проблема с наличием отрицательных значений в столбце \"days_employed\", а также с дробными значениями в столбце total_income. Вернемся к ним позднее на этапе предобработки данных."
   ]
  },
  {
   "cell_type": "code",
   "execution_count": 3,
   "id": "09c4257a",
   "metadata": {},
   "outputs": [
    {
     "data": {
      "text/html": [
       "<div>\n",
       "<style scoped>\n",
       "    .dataframe tbody tr th:only-of-type {\n",
       "        vertical-align: middle;\n",
       "    }\n",
       "\n",
       "    .dataframe tbody tr th {\n",
       "        vertical-align: top;\n",
       "    }\n",
       "\n",
       "    .dataframe thead th {\n",
       "        text-align: right;\n",
       "    }\n",
       "</style>\n",
       "<table border=\"1\" class=\"dataframe\">\n",
       "  <thead>\n",
       "    <tr style=\"text-align: right;\">\n",
       "      <th></th>\n",
       "      <th>children</th>\n",
       "      <th>days_employed</th>\n",
       "      <th>dob_years</th>\n",
       "      <th>education</th>\n",
       "      <th>education_id</th>\n",
       "      <th>family_status</th>\n",
       "      <th>family_status_id</th>\n",
       "      <th>gender</th>\n",
       "      <th>income_type</th>\n",
       "      <th>debt</th>\n",
       "      <th>total_income</th>\n",
       "      <th>purpose</th>\n",
       "    </tr>\n",
       "  </thead>\n",
       "  <tbody>\n",
       "    <tr>\n",
       "      <th>0</th>\n",
       "      <td>1</td>\n",
       "      <td>-8437.673028</td>\n",
       "      <td>42</td>\n",
       "      <td>высшее</td>\n",
       "      <td>0</td>\n",
       "      <td>женат / замужем</td>\n",
       "      <td>0</td>\n",
       "      <td>F</td>\n",
       "      <td>сотрудник</td>\n",
       "      <td>0</td>\n",
       "      <td>253875.639453</td>\n",
       "      <td>покупка жилья</td>\n",
       "    </tr>\n",
       "    <tr>\n",
       "      <th>1</th>\n",
       "      <td>1</td>\n",
       "      <td>-4024.803754</td>\n",
       "      <td>36</td>\n",
       "      <td>среднее</td>\n",
       "      <td>1</td>\n",
       "      <td>женат / замужем</td>\n",
       "      <td>0</td>\n",
       "      <td>F</td>\n",
       "      <td>сотрудник</td>\n",
       "      <td>0</td>\n",
       "      <td>112080.014102</td>\n",
       "      <td>приобретение автомобиля</td>\n",
       "    </tr>\n",
       "    <tr>\n",
       "      <th>2</th>\n",
       "      <td>0</td>\n",
       "      <td>-5623.422610</td>\n",
       "      <td>33</td>\n",
       "      <td>Среднее</td>\n",
       "      <td>1</td>\n",
       "      <td>женат / замужем</td>\n",
       "      <td>0</td>\n",
       "      <td>M</td>\n",
       "      <td>сотрудник</td>\n",
       "      <td>0</td>\n",
       "      <td>145885.952297</td>\n",
       "      <td>покупка жилья</td>\n",
       "    </tr>\n",
       "    <tr>\n",
       "      <th>3</th>\n",
       "      <td>3</td>\n",
       "      <td>-4124.747207</td>\n",
       "      <td>32</td>\n",
       "      <td>среднее</td>\n",
       "      <td>1</td>\n",
       "      <td>женат / замужем</td>\n",
       "      <td>0</td>\n",
       "      <td>M</td>\n",
       "      <td>сотрудник</td>\n",
       "      <td>0</td>\n",
       "      <td>267628.550329</td>\n",
       "      <td>дополнительное образование</td>\n",
       "    </tr>\n",
       "    <tr>\n",
       "      <th>4</th>\n",
       "      <td>0</td>\n",
       "      <td>340266.072047</td>\n",
       "      <td>53</td>\n",
       "      <td>среднее</td>\n",
       "      <td>1</td>\n",
       "      <td>гражданский брак</td>\n",
       "      <td>1</td>\n",
       "      <td>F</td>\n",
       "      <td>пенсионер</td>\n",
       "      <td>0</td>\n",
       "      <td>158616.077870</td>\n",
       "      <td>сыграть свадьбу</td>\n",
       "    </tr>\n",
       "    <tr>\n",
       "      <th>5</th>\n",
       "      <td>0</td>\n",
       "      <td>-926.185831</td>\n",
       "      <td>27</td>\n",
       "      <td>высшее</td>\n",
       "      <td>0</td>\n",
       "      <td>гражданский брак</td>\n",
       "      <td>1</td>\n",
       "      <td>M</td>\n",
       "      <td>компаньон</td>\n",
       "      <td>0</td>\n",
       "      <td>255763.565419</td>\n",
       "      <td>покупка жилья</td>\n",
       "    </tr>\n",
       "    <tr>\n",
       "      <th>6</th>\n",
       "      <td>0</td>\n",
       "      <td>-2879.202052</td>\n",
       "      <td>43</td>\n",
       "      <td>высшее</td>\n",
       "      <td>0</td>\n",
       "      <td>женат / замужем</td>\n",
       "      <td>0</td>\n",
       "      <td>F</td>\n",
       "      <td>компаньон</td>\n",
       "      <td>0</td>\n",
       "      <td>240525.971920</td>\n",
       "      <td>операции с жильем</td>\n",
       "    </tr>\n",
       "    <tr>\n",
       "      <th>7</th>\n",
       "      <td>0</td>\n",
       "      <td>-152.779569</td>\n",
       "      <td>50</td>\n",
       "      <td>СРЕДНЕЕ</td>\n",
       "      <td>1</td>\n",
       "      <td>женат / замужем</td>\n",
       "      <td>0</td>\n",
       "      <td>M</td>\n",
       "      <td>сотрудник</td>\n",
       "      <td>0</td>\n",
       "      <td>135823.934197</td>\n",
       "      <td>образование</td>\n",
       "    </tr>\n",
       "    <tr>\n",
       "      <th>8</th>\n",
       "      <td>2</td>\n",
       "      <td>-6929.865299</td>\n",
       "      <td>35</td>\n",
       "      <td>ВЫСШЕЕ</td>\n",
       "      <td>0</td>\n",
       "      <td>гражданский брак</td>\n",
       "      <td>1</td>\n",
       "      <td>F</td>\n",
       "      <td>сотрудник</td>\n",
       "      <td>0</td>\n",
       "      <td>95856.832424</td>\n",
       "      <td>на проведение свадьбы</td>\n",
       "    </tr>\n",
       "    <tr>\n",
       "      <th>9</th>\n",
       "      <td>0</td>\n",
       "      <td>-2188.756445</td>\n",
       "      <td>41</td>\n",
       "      <td>среднее</td>\n",
       "      <td>1</td>\n",
       "      <td>женат / замужем</td>\n",
       "      <td>0</td>\n",
       "      <td>M</td>\n",
       "      <td>сотрудник</td>\n",
       "      <td>0</td>\n",
       "      <td>144425.938277</td>\n",
       "      <td>покупка жилья для семьи</td>\n",
       "    </tr>\n",
       "  </tbody>\n",
       "</table>\n",
       "</div>"
      ],
      "text/plain": [
       "   children  days_employed  dob_years education  education_id  \\\n",
       "0         1   -8437.673028         42    высшее             0   \n",
       "1         1   -4024.803754         36   среднее             1   \n",
       "2         0   -5623.422610         33   Среднее             1   \n",
       "3         3   -4124.747207         32   среднее             1   \n",
       "4         0  340266.072047         53   среднее             1   \n",
       "5         0    -926.185831         27    высшее             0   \n",
       "6         0   -2879.202052         43    высшее             0   \n",
       "7         0    -152.779569         50   СРЕДНЕЕ             1   \n",
       "8         2   -6929.865299         35    ВЫСШЕЕ             0   \n",
       "9         0   -2188.756445         41   среднее             1   \n",
       "\n",
       "      family_status  family_status_id gender income_type  debt   total_income  \\\n",
       "0   женат / замужем                 0      F   сотрудник     0  253875.639453   \n",
       "1   женат / замужем                 0      F   сотрудник     0  112080.014102   \n",
       "2   женат / замужем                 0      M   сотрудник     0  145885.952297   \n",
       "3   женат / замужем                 0      M   сотрудник     0  267628.550329   \n",
       "4  гражданский брак                 1      F   пенсионер     0  158616.077870   \n",
       "5  гражданский брак                 1      M   компаньон     0  255763.565419   \n",
       "6   женат / замужем                 0      F   компаньон     0  240525.971920   \n",
       "7   женат / замужем                 0      M   сотрудник     0  135823.934197   \n",
       "8  гражданский брак                 1      F   сотрудник     0   95856.832424   \n",
       "9   женат / замужем                 0      M   сотрудник     0  144425.938277   \n",
       "\n",
       "                      purpose  \n",
       "0               покупка жилья  \n",
       "1     приобретение автомобиля  \n",
       "2               покупка жилья  \n",
       "3  дополнительное образование  \n",
       "4             сыграть свадьбу  \n",
       "5               покупка жилья  \n",
       "6           операции с жильем  \n",
       "7                 образование  \n",
       "8       на проведение свадьбы  \n",
       "9     покупка жилья для семьи  "
      ]
     },
     "execution_count": 3,
     "metadata": {},
     "output_type": "execute_result"
    }
   ],
   "source": [
    "data.head(10)"
   ]
  },
  {
   "cell_type": "markdown",
   "id": "4b9c8a1f",
   "metadata": {},
   "source": [
    "Получаем общую информацию о таблице методом info()"
   ]
  },
  {
   "cell_type": "code",
   "execution_count": 4,
   "id": "cfd56b31",
   "metadata": {},
   "outputs": [
    {
     "name": "stdout",
     "output_type": "stream",
     "text": [
      "<class 'pandas.core.frame.DataFrame'>\n",
      "RangeIndex: 21525 entries, 0 to 21524\n",
      "Data columns (total 12 columns):\n",
      " #   Column            Non-Null Count  Dtype  \n",
      "---  ------            --------------  -----  \n",
      " 0   children          21525 non-null  int64  \n",
      " 1   days_employed     19351 non-null  float64\n",
      " 2   dob_years         21525 non-null  int64  \n",
      " 3   education         21525 non-null  object \n",
      " 4   education_id      21525 non-null  int64  \n",
      " 5   family_status     21525 non-null  object \n",
      " 6   family_status_id  21525 non-null  int64  \n",
      " 7   gender            21525 non-null  object \n",
      " 8   income_type       21525 non-null  object \n",
      " 9   debt              21525 non-null  int64  \n",
      " 10  total_income      19351 non-null  float64\n",
      " 11  purpose           21525 non-null  object \n",
      "dtypes: float64(2), int64(5), object(5)\n",
      "memory usage: 2.0+ MB\n"
     ]
    }
   ],
   "source": [
    "data.info()"
   ]
  },
  {
   "cell_type": "markdown",
   "id": "c7dac091",
   "metadata": {},
   "source": [
    "В таблице 12 столбцов, столбцы названы без нарушений стиля. \n",
    "\n",
    "Согласно документации к проекту:\n",
    "\n",
    "* children — количество детей в семье\n",
    "* days_employed — общий трудовой стаж в днях\n",
    "* dob_years — возраст клиента в годах\n",
    "* education — уровень образования клиента\n",
    "* education_id — идентификатор уровня образования\n",
    "* family_status — семейное положение\n",
    "* family_status_id — идентификатор семейного положения\n",
    "* gender — пол клиента\n",
    "* income_type — тип занятости\n",
    "* debt — имел ли задолженность по возврату кредитов\n",
    "* total_income — ежемесячный доход\n",
    "* purpose — цель получения кредита\n",
    "\n",
    "В 2 столбцах обнаруживаются пропуски в данных, данную проблему будет необходимо решить на этапе предобработки данных."
   ]
  },
  {
   "cell_type": "markdown",
   "id": "5455100f",
   "metadata": {},
   "source": [
    "**Выводы**\n",
    "\n",
    "Предварительно можно утверждать, что данных достаточно для решения поставленных задач. Однако перед проведением анализа необходимо выполнить предобработку данных:\n",
    "\n",
    "1. Оценить критичность и заполнить пропущенные значения в столбцах days_employed, total_income\n",
    "2. Найти причину и исправить отрицательные значения в столбце days_employed\n",
    "3. Округлить значения дохода в столбце total_income, приведя его к целочисленному типу данных\n",
    "4. Проверить наличие и устранить дубликаты в данных (явные и неявные)\n",
    "5. Провести необходимые группировки данных для повышения удобства и наглядности дальнейшего анализа "
   ]
  },
  {
   "cell_type": "markdown",
   "id": "96a5a64c",
   "metadata": {},
   "source": [
    "## Предобработка данных"
   ]
  },
  {
   "cell_type": "markdown",
   "id": "a239b250",
   "metadata": {},
   "source": [
    "### Пропуски значений"
   ]
  },
  {
   "cell_type": "markdown",
   "id": "42ba0993",
   "metadata": {},
   "source": [
    "Посчитаем количество пропущенных значений в таблице:"
   ]
  },
  {
   "cell_type": "code",
   "execution_count": 5,
   "id": "fb26505b",
   "metadata": {},
   "outputs": [
    {
     "data": {
      "text/plain": [
       "children               0\n",
       "days_employed       2174\n",
       "dob_years              0\n",
       "education              0\n",
       "education_id           0\n",
       "family_status          0\n",
       "family_status_id       0\n",
       "gender                 0\n",
       "income_type            0\n",
       "debt                   0\n",
       "total_income        2174\n",
       "purpose                0\n",
       "dtype: int64"
      ]
     },
     "execution_count": 5,
     "metadata": {},
     "output_type": "execute_result"
    }
   ],
   "source": [
    "data.isna().sum()"
   ]
  },
  {
   "cell_type": "markdown",
   "id": "97d4332b",
   "metadata": {},
   "source": [
    "В столбцах days_employed и total_income пропущено по 2174 значений, что составляет 10% от общего количества значений в столбцах. Доля пропущенных значений довольно существенна и может повлиять на результаты исследования.\n",
    "\n",
    "Чтобы понять причины пропусков данных взглянем на несколько строк с пропущенными значениями:"
   ]
  },
  {
   "cell_type": "code",
   "execution_count": 6,
   "id": "c7654fa2",
   "metadata": {},
   "outputs": [
    {
     "data": {
      "text/html": [
       "<div>\n",
       "<style scoped>\n",
       "    .dataframe tbody tr th:only-of-type {\n",
       "        vertical-align: middle;\n",
       "    }\n",
       "\n",
       "    .dataframe tbody tr th {\n",
       "        vertical-align: top;\n",
       "    }\n",
       "\n",
       "    .dataframe thead th {\n",
       "        text-align: right;\n",
       "    }\n",
       "</style>\n",
       "<table border=\"1\" class=\"dataframe\">\n",
       "  <thead>\n",
       "    <tr style=\"text-align: right;\">\n",
       "      <th></th>\n",
       "      <th>children</th>\n",
       "      <th>days_employed</th>\n",
       "      <th>dob_years</th>\n",
       "      <th>education</th>\n",
       "      <th>education_id</th>\n",
       "      <th>family_status</th>\n",
       "      <th>family_status_id</th>\n",
       "      <th>gender</th>\n",
       "      <th>income_type</th>\n",
       "      <th>debt</th>\n",
       "      <th>total_income</th>\n",
       "      <th>purpose</th>\n",
       "    </tr>\n",
       "  </thead>\n",
       "  <tbody>\n",
       "    <tr>\n",
       "      <th>12</th>\n",
       "      <td>0</td>\n",
       "      <td>NaN</td>\n",
       "      <td>65</td>\n",
       "      <td>среднее</td>\n",
       "      <td>1</td>\n",
       "      <td>гражданский брак</td>\n",
       "      <td>1</td>\n",
       "      <td>M</td>\n",
       "      <td>пенсионер</td>\n",
       "      <td>0</td>\n",
       "      <td>NaN</td>\n",
       "      <td>сыграть свадьбу</td>\n",
       "    </tr>\n",
       "    <tr>\n",
       "      <th>26</th>\n",
       "      <td>0</td>\n",
       "      <td>NaN</td>\n",
       "      <td>41</td>\n",
       "      <td>среднее</td>\n",
       "      <td>1</td>\n",
       "      <td>женат / замужем</td>\n",
       "      <td>0</td>\n",
       "      <td>M</td>\n",
       "      <td>госслужащий</td>\n",
       "      <td>0</td>\n",
       "      <td>NaN</td>\n",
       "      <td>образование</td>\n",
       "    </tr>\n",
       "    <tr>\n",
       "      <th>29</th>\n",
       "      <td>0</td>\n",
       "      <td>NaN</td>\n",
       "      <td>63</td>\n",
       "      <td>среднее</td>\n",
       "      <td>1</td>\n",
       "      <td>Не женат / не замужем</td>\n",
       "      <td>4</td>\n",
       "      <td>F</td>\n",
       "      <td>пенсионер</td>\n",
       "      <td>0</td>\n",
       "      <td>NaN</td>\n",
       "      <td>строительство жилой недвижимости</td>\n",
       "    </tr>\n",
       "    <tr>\n",
       "      <th>41</th>\n",
       "      <td>0</td>\n",
       "      <td>NaN</td>\n",
       "      <td>50</td>\n",
       "      <td>среднее</td>\n",
       "      <td>1</td>\n",
       "      <td>женат / замужем</td>\n",
       "      <td>0</td>\n",
       "      <td>F</td>\n",
       "      <td>госслужащий</td>\n",
       "      <td>0</td>\n",
       "      <td>NaN</td>\n",
       "      <td>сделка с подержанным автомобилем</td>\n",
       "    </tr>\n",
       "    <tr>\n",
       "      <th>55</th>\n",
       "      <td>0</td>\n",
       "      <td>NaN</td>\n",
       "      <td>54</td>\n",
       "      <td>среднее</td>\n",
       "      <td>1</td>\n",
       "      <td>гражданский брак</td>\n",
       "      <td>1</td>\n",
       "      <td>F</td>\n",
       "      <td>пенсионер</td>\n",
       "      <td>1</td>\n",
       "      <td>NaN</td>\n",
       "      <td>сыграть свадьбу</td>\n",
       "    </tr>\n",
       "  </tbody>\n",
       "</table>\n",
       "</div>"
      ],
      "text/plain": [
       "    children  days_employed  dob_years education  education_id  \\\n",
       "12         0            NaN         65   среднее             1   \n",
       "26         0            NaN         41   среднее             1   \n",
       "29         0            NaN         63   среднее             1   \n",
       "41         0            NaN         50   среднее             1   \n",
       "55         0            NaN         54   среднее             1   \n",
       "\n",
       "            family_status  family_status_id gender  income_type  debt  \\\n",
       "12       гражданский брак                 1      M    пенсионер     0   \n",
       "26        женат / замужем                 0      M  госслужащий     0   \n",
       "29  Не женат / не замужем                 4      F    пенсионер     0   \n",
       "41        женат / замужем                 0      F  госслужащий     0   \n",
       "55       гражданский брак                 1      F    пенсионер     1   \n",
       "\n",
       "    total_income                           purpose  \n",
       "12           NaN                   сыграть свадьбу  \n",
       "26           NaN                       образование  \n",
       "29           NaN  строительство жилой недвижимости  \n",
       "41           NaN  сделка с подержанным автомобилем  \n",
       "55           NaN                   сыграть свадьбу  "
      ]
     },
     "execution_count": 6,
     "metadata": {},
     "output_type": "execute_result"
    }
   ],
   "source": [
    "data[data['days_employed'].isna() == True].head() # фильтрация через метод isna и логическую индексацию"
   ]
  },
  {
   "cell_type": "markdown",
   "id": "a7ada1ed",
   "metadata": {},
   "source": [
    "Вначале можно было бы предположить, что значения в столбцах days_employed и total_income могут отсутствовать по причине того, что заемщики пока не успели получить трудовой стаж и находятся в поисках первого места работы. \n",
    "\n",
    "Однако при рассмотрении датасета с пропусками видно, что это не так - возраст заемщиков и тип дохода говорит о том, что скорее всего у них был/есть опыт работы и причина пропусков вероятнее всего заключается в том, что заемщики не предоставили данные о своем трудовом стаже и доходе, либо произошла техническая ошибка при обновлении/выгрузки данных."
   ]
  },
  {
   "cell_type": "markdown",
   "id": "165bd71d",
   "metadata": {},
   "source": [
    "Пропущенные количественные данные в данном случае лучше всего заполнить медианным значением по столбцу, чтобы исключить влияние выбросов данных (аномально малых и аномально больших значений). Медианное значение лучше отражает усредненное значение по анализируемой совокупности данных без эффекта \"средней температуры по больнице\"."
   ]
  },
  {
   "cell_type": "markdown",
   "id": "5e8fe5f4",
   "metadata": {},
   "source": [
    "**Заполнение пропусков в данных**\n",
    "\n",
    "Заполним пропуски в столбце total_income медианным значением дохода. \n",
    "\n",
    "Заполнять пропуски в столбце days_employed, также как исправлять отрицательные значения в этом столбце не будем, так как этот столбец не пригодится для дальнейшего анализа. Кроме того, корректность данных в нем вызывает большие сомнения, так 340 266 дней равняется примерно 932 лет, что не может считаться реальным трудовым стажем."
   ]
  },
  {
   "cell_type": "markdown",
   "id": "a00484a4",
   "metadata": {},
   "source": [
    "Рассчитаем медианный доход"
   ]
  },
  {
   "cell_type": "code",
   "execution_count": 7,
   "id": "c743c057",
   "metadata": {},
   "outputs": [
    {
     "name": "stdout",
     "output_type": "stream",
     "text": [
      "Медианный доход: 145017\n"
     ]
    }
   ],
   "source": [
    "median_income = data[data['total_income'].isna() == False]['total_income'].median() # находим медианный доход по значениям в столбце total_income, где нет пропусков\n",
    "print('Медианный доход:', int(median_income))"
   ]
  },
  {
   "cell_type": "markdown",
   "id": "d3b65de1",
   "metadata": {},
   "source": [
    "Заполним пропуски в столбце total_income значением медианного дохода"
   ]
  },
  {
   "cell_type": "code",
   "execution_count": 8,
   "id": "2b1c0569",
   "metadata": {},
   "outputs": [
    {
     "data": {
      "text/plain": [
       "children            0\n",
       "days_employed       0\n",
       "dob_years           0\n",
       "education           0\n",
       "education_id        0\n",
       "family_status       0\n",
       "family_status_id    0\n",
       "gender              0\n",
       "income_type         0\n",
       "debt                0\n",
       "total_income        0\n",
       "purpose             0\n",
       "dtype: int64"
      ]
     },
     "metadata": {},
     "output_type": "display_data"
    }
   ],
   "source": [
    "data['total_income'] = data['total_income'].fillna(median_income) #заполняем пропущенные значения медианным доходом методом fillna\n",
    "data['days_employed'] = '' #заполняем столбец days_employed пустой строкой\n",
    "display(data.isna().sum()) # еще раз выводим пропущенные значения по столбцам"
   ]
  },
  {
   "cell_type": "markdown",
   "id": "9339227f",
   "metadata": {},
   "source": [
    "Пропуски в данных устранены."
   ]
  },
  {
   "cell_type": "markdown",
   "id": "2eef6151",
   "metadata": {},
   "source": [
    "Заменим вещественные значения в столбце total_income целочисленными."
   ]
  },
  {
   "cell_type": "code",
   "execution_count": 9,
   "id": "6ea3fb3f",
   "metadata": {},
   "outputs": [
    {
     "name": "stdout",
     "output_type": "stream",
     "text": [
      "<class 'pandas.core.frame.DataFrame'>\n",
      "RangeIndex: 21525 entries, 0 to 21524\n",
      "Data columns (total 12 columns):\n",
      " #   Column            Non-Null Count  Dtype \n",
      "---  ------            --------------  ----- \n",
      " 0   children          21525 non-null  int64 \n",
      " 1   days_employed     21525 non-null  object\n",
      " 2   dob_years         21525 non-null  int64 \n",
      " 3   education         21525 non-null  object\n",
      " 4   education_id      21525 non-null  int64 \n",
      " 5   family_status     21525 non-null  object\n",
      " 6   family_status_id  21525 non-null  int64 \n",
      " 7   gender            21525 non-null  object\n",
      " 8   income_type       21525 non-null  object\n",
      " 9   debt              21525 non-null  int64 \n",
      " 10  total_income      21525 non-null  int32 \n",
      " 11  purpose           21525 non-null  object\n",
      "dtypes: int32(1), int64(5), object(6)\n",
      "memory usage: 1.9+ MB\n"
     ]
    }
   ],
   "source": [
    "data['total_income'] = data['total_income'].astype('int') # переводим в целочисленные значения столбец total_income с помощью метода astype\n",
    "data.info() # проверяем изменение типа данных в столбце total_income"
   ]
  },
  {
   "cell_type": "markdown",
   "id": "aeba2e45",
   "metadata": {},
   "source": [
    "Тип данных в столбце total_income изменился на int (целое число)."
   ]
  },
  {
   "cell_type": "markdown",
   "id": "3e091d2a",
   "metadata": {},
   "source": [
    "### Поиск и обработка дубликатов"
   ]
  },
  {
   "cell_type": "markdown",
   "id": "87dcee8e",
   "metadata": {},
   "source": [
    "**Удаляем явные дубликаты**"
   ]
  },
  {
   "cell_type": "code",
   "execution_count": 10,
   "id": "b6d0341e",
   "metadata": {},
   "outputs": [
    {
     "name": "stdout",
     "output_type": "stream",
     "text": [
      "Количество дубликатов: 54\n"
     ]
    }
   ],
   "source": [
    "print('Количество дубликатов:', data.duplicated().sum()) # подсчитаем количество явных дубликатов в данных, найдено 54 дубликата"
   ]
  },
  {
   "cell_type": "code",
   "execution_count": 11,
   "id": "5a2355fa",
   "metadata": {},
   "outputs": [
    {
     "name": "stdout",
     "output_type": "stream",
     "text": [
      "Количество дубликатов: 0\n"
     ]
    }
   ],
   "source": [
    "data = data.drop_duplicates().reset_index(drop = True) # удаляем дубликаты и сбарсываем индексы строк\n",
    "print('Количество дубликатов:', data.duplicated().sum()) # проверяем, остались ли дубликаты"
   ]
  },
  {
   "cell_type": "markdown",
   "id": "003f551a",
   "metadata": {},
   "source": [
    "**Проверяем данные на неявные дубликаты**"
   ]
  },
  {
   "cell_type": "markdown",
   "id": "729509bd",
   "metadata": {},
   "source": [
    "Проверку будем осуществлять по каждому столбцу выводя список уникальных значений методом value_counts, таким образом также получится сделать дополнительную проверку на аномальные значения в данных.\n",
    "\n",
    "* столбец children"
   ]
  },
  {
   "cell_type": "code",
   "execution_count": 12,
   "id": "754601a2",
   "metadata": {},
   "outputs": [
    {
     "data": {
      "text/plain": [
       " 0     14107\n",
       " 1      4809\n",
       " 2      2052\n",
       " 3       330\n",
       " 20       76\n",
       "-1        47\n",
       " 4        41\n",
       " 5         9\n",
       "Name: children, dtype: int64"
      ]
     },
     "execution_count": 12,
     "metadata": {},
     "output_type": "execute_result"
    }
   ],
   "source": [
    "data['children'].value_counts() # проверяем первый столбец children методом value_counts, который формирует список уникальных значений и выводит частоту их повторения"
   ]
  },
  {
   "cell_type": "markdown",
   "id": "1519d1d1",
   "metadata": {},
   "source": [
    "Как таковых, дубликатов в столбце children, который отражает количество детей в семье заёмщика быть не может. Но благодаря данной проверке мы выявили аномальные значения в этом столбце: детей точно не может быть -1. 20 детей скорее всего тоже не является реалистичным значением.\n",
    "\n",
    "Заменим аномальные значениями медианными."
   ]
  },
  {
   "cell_type": "code",
   "execution_count": 13,
   "id": "a19b281b",
   "metadata": {},
   "outputs": [
    {
     "name": "stdout",
     "output_type": "stream",
     "text": [
      "Медианное количество детей в семье: 0\n"
     ]
    }
   ],
   "source": [
    "median_children = data['children'].median() # находим медианное значение\n",
    "print('Медианное количество детей в семье:', int(median_children))"
   ]
  },
  {
   "cell_type": "code",
   "execution_count": 14,
   "id": "9ca36da8",
   "metadata": {},
   "outputs": [
    {
     "name": "stdout",
     "output_type": "stream",
     "text": [
      "0    14230\n",
      "1     4809\n",
      "2     2052\n",
      "3      330\n",
      "4       41\n",
      "5        9\n",
      "Name: children, dtype: int64\n"
     ]
    }
   ],
   "source": [
    "data['children'] = data['children'].replace(-1, 0) # заменяем аномальные значение методом replace\n",
    "data['children'] = data['children'].replace(20, 0) # заменяем аномальные значение методом replace\n",
    "print(data['children'].value_counts()) # проверяем итоговый набор уникальных данных"
   ]
  },
  {
   "cell_type": "markdown",
   "id": "f9c93408",
   "metadata": {},
   "source": [
    "* столбец days_employed : пропускаем как нерелевантный для исследования"
   ]
  },
  {
   "cell_type": "markdown",
   "id": "398a6857",
   "metadata": {},
   "source": [
    "* столбец dob_years"
   ]
  },
  {
   "cell_type": "code",
   "execution_count": 15,
   "id": "49600372",
   "metadata": {},
   "outputs": [
    {
     "data": {
      "text/plain": [
       "35    616\n",
       "40    607\n",
       "41    606\n",
       "34    601\n",
       "38    597\n",
       "42    596\n",
       "33    581\n",
       "39    572\n",
       "31    559\n",
       "36    554\n",
       "44    545\n",
       "29    544\n",
       "30    538\n",
       "48    537\n",
       "37    536\n",
       "50    513\n",
       "43    512\n",
       "32    509\n",
       "49    508\n",
       "28    503\n",
       "45    497\n",
       "27    493\n",
       "52    484\n",
       "56    484\n",
       "47    477\n",
       "54    476\n",
       "46    473\n",
       "53    459\n",
       "57    456\n",
       "58    456\n",
       "51    448\n",
       "59    443\n",
       "55    443\n",
       "26    408\n",
       "60    374\n",
       "25    357\n",
       "61    354\n",
       "62    349\n",
       "63    269\n",
       "24    264\n",
       "64    262\n",
       "23    253\n",
       "65    194\n",
       "22    183\n",
       "66    182\n",
       "67    167\n",
       "21    111\n",
       "0     101\n",
       "68     99\n",
       "69     85\n",
       "70     65\n",
       "71     58\n",
       "20     51\n",
       "72     33\n",
       "19     14\n",
       "73      8\n",
       "74      6\n",
       "75      1\n",
       "Name: dob_years, dtype: int64"
      ]
     },
     "execution_count": 15,
     "metadata": {},
     "output_type": "execute_result"
    }
   ],
   "source": [
    "data['dob_years'].value_counts()"
   ]
  },
  {
   "cell_type": "markdown",
   "id": "80922012",
   "metadata": {},
   "source": [
    "Присутствуют записи с аномальным значением возраста клиента 0 лет. Заполним их медианным значением возраста."
   ]
  },
  {
   "cell_type": "code",
   "execution_count": 16,
   "id": "326a856a",
   "metadata": {},
   "outputs": [
    {
     "name": "stdout",
     "output_type": "stream",
     "text": [
      "Медианный возраст: 42\n",
      "42    697\n",
      "35    616\n",
      "40    607\n",
      "41    606\n",
      "34    601\n",
      "38    597\n",
      "33    581\n",
      "39    572\n",
      "31    559\n",
      "36    554\n",
      "44    545\n",
      "29    544\n",
      "30    538\n",
      "48    537\n",
      "37    536\n",
      "50    513\n",
      "43    512\n",
      "32    509\n",
      "49    508\n",
      "28    503\n",
      "45    497\n",
      "27    493\n",
      "52    484\n",
      "56    484\n",
      "47    477\n",
      "54    476\n",
      "46    473\n",
      "53    459\n",
      "58    456\n",
      "57    456\n",
      "51    448\n",
      "59    443\n",
      "55    443\n",
      "26    408\n",
      "60    374\n",
      "25    357\n",
      "61    354\n",
      "62    349\n",
      "63    269\n",
      "24    264\n",
      "64    262\n",
      "23    253\n",
      "65    194\n",
      "22    183\n",
      "66    182\n",
      "67    167\n",
      "21    111\n",
      "68     99\n",
      "69     85\n",
      "70     65\n",
      "71     58\n",
      "20     51\n",
      "72     33\n",
      "19     14\n",
      "73      8\n",
      "74      6\n",
      "75      1\n",
      "Name: dob_years, dtype: int64\n"
     ]
    }
   ],
   "source": [
    "median_years = data['dob_years'].median() # находим медианное значение\n",
    "print('Медианный возраст:', int(median_years))\n",
    "data['dob_years'] = data['dob_years'].replace(0, median_years) # заменяем аномальные значение методом replace\n",
    "print(data['dob_years'].value_counts()) # проверяем итоговый набор уникальных данных"
   ]
  },
  {
   "cell_type": "markdown",
   "id": "f218224c",
   "metadata": {},
   "source": [
    "Аномальное значение 0 лет заменено на медианное 42 года"
   ]
  },
  {
   "cell_type": "markdown",
   "id": "cf9bd9bf",
   "metadata": {},
   "source": [
    "* столбец education"
   ]
  },
  {
   "cell_type": "code",
   "execution_count": 17,
   "id": "0f2bcb31",
   "metadata": {},
   "outputs": [
    {
     "data": {
      "text/plain": [
       "среднее                13705\n",
       "высшее                  4710\n",
       "СРЕДНЕЕ                  772\n",
       "Среднее                  711\n",
       "неоконченное высшее      668\n",
       "ВЫСШЕЕ                   273\n",
       "Высшее                   268\n",
       "начальное                250\n",
       "Неоконченное высшее       47\n",
       "НЕОКОНЧЕННОЕ ВЫСШЕЕ       29\n",
       "НАЧАЛЬНОЕ                 17\n",
       "Начальное                 15\n",
       "ученая степень             4\n",
       "Ученая степень             1\n",
       "УЧЕНАЯ СТЕПЕНЬ             1\n",
       "Name: education, dtype: int64"
      ]
     },
     "execution_count": 17,
     "metadata": {},
     "output_type": "execute_result"
    }
   ],
   "source": [
    "data['education'].value_counts()"
   ]
  },
  {
   "cell_type": "markdown",
   "id": "52461618",
   "metadata": {},
   "source": [
    "В столбце education присутствуют неявные дубликаты из-за использования разного регистра. Приведем все записи в этом столбце к нижнему регистру"
   ]
  },
  {
   "cell_type": "code",
   "execution_count": 18,
   "id": "a5fe9ccd",
   "metadata": {},
   "outputs": [
    {
     "data": {
      "text/plain": [
       "среднее                15188\n",
       "высшее                  5251\n",
       "неоконченное высшее      744\n",
       "начальное                282\n",
       "ученая степень             6\n",
       "Name: education, dtype: int64"
      ]
     },
     "execution_count": 18,
     "metadata": {},
     "output_type": "execute_result"
    }
   ],
   "source": [
    "data['education'] = data['education'].str.lower() # используем метод str.lower для приведения записей в столбце к нижнему регистру\n",
    "data['education'].value_counts() # контрольный вывод уникальных значений в столбце"
   ]
  },
  {
   "cell_type": "markdown",
   "id": "bfda9151",
   "metadata": {},
   "source": [
    "* столбец family_status"
   ]
  },
  {
   "cell_type": "code",
   "execution_count": 19,
   "id": "ab6c07b3",
   "metadata": {},
   "outputs": [
    {
     "data": {
      "text/plain": [
       "женат / замужем          12344\n",
       "гражданский брак          4163\n",
       "Не женат / не замужем     2810\n",
       "в разводе                 1195\n",
       "вдовец / вдова             959\n",
       "Name: family_status, dtype: int64"
      ]
     },
     "execution_count": 19,
     "metadata": {},
     "output_type": "execute_result"
    }
   ],
   "source": [
    "data['family_status'].value_counts()"
   ]
  },
  {
   "cell_type": "markdown",
   "id": "30c68af4",
   "metadata": {},
   "source": [
    "Особых проблем в данном столбце нет, для единообразия можно привести данный столбец также к нижнему регистру"
   ]
  },
  {
   "cell_type": "code",
   "execution_count": 20,
   "id": "f38ffc2a",
   "metadata": {},
   "outputs": [
    {
     "data": {
      "text/plain": [
       "женат / замужем          12344\n",
       "гражданский брак          4163\n",
       "не женат / не замужем     2810\n",
       "в разводе                 1195\n",
       "вдовец / вдова             959\n",
       "Name: family_status, dtype: int64"
      ]
     },
     "execution_count": 20,
     "metadata": {},
     "output_type": "execute_result"
    }
   ],
   "source": [
    "data['family_status'] = data['family_status'].str.lower() # используем метод str.lower для приведения записей в столбце к нижнему регистру\n",
    "data['family_status'].value_counts() # контрольный вывод уникальных значений в столбце"
   ]
  },
  {
   "cell_type": "markdown",
   "id": "c8cdd090",
   "metadata": {},
   "source": [
    "столбец gender"
   ]
  },
  {
   "cell_type": "code",
   "execution_count": 21,
   "id": "36114cb9",
   "metadata": {},
   "outputs": [
    {
     "data": {
      "text/plain": [
       "F      14189\n",
       "M       7281\n",
       "XNA        1\n",
       "Name: gender, dtype: int64"
      ]
     },
     "execution_count": 21,
     "metadata": {},
     "output_type": "execute_result"
    }
   ],
   "source": [
    "data['gender'].value_counts()"
   ]
  },
  {
   "cell_type": "markdown",
   "id": "95edbc1f",
   "metadata": {},
   "source": [
    "В данном столбце отсутствуют неявные дубликаты, наличие пропуска/гендера, отличного от \"F\" / \"M\" не повлияют на результаты исследования "
   ]
  },
  {
   "cell_type": "markdown",
   "id": "9e2b34bc",
   "metadata": {},
   "source": [
    "* столбец income_type"
   ]
  },
  {
   "cell_type": "code",
   "execution_count": 22,
   "id": "12a75b5e",
   "metadata": {},
   "outputs": [
    {
     "data": {
      "text/plain": [
       "сотрудник          11091\n",
       "компаньон           5080\n",
       "пенсионер           3837\n",
       "госслужащий         1457\n",
       "безработный            2\n",
       "предприниматель        2\n",
       "студент                1\n",
       "в декрете              1\n",
       "Name: income_type, dtype: int64"
      ]
     },
     "execution_count": 22,
     "metadata": {},
     "output_type": "execute_result"
    }
   ],
   "source": [
    "data['income_type'].value_counts()"
   ]
  },
  {
   "cell_type": "markdown",
   "id": "58ea2b1c",
   "metadata": {},
   "source": [
    "С данными порядок, дубликатов нет"
   ]
  },
  {
   "cell_type": "markdown",
   "id": "3c75a97a",
   "metadata": {},
   "source": [
    "* столбец purpose"
   ]
  },
  {
   "cell_type": "code",
   "execution_count": 23,
   "id": "960dfa46",
   "metadata": {},
   "outputs": [
    {
     "data": {
      "text/plain": [
       "свадьба                                   793\n",
       "на проведение свадьбы                     773\n",
       "сыграть свадьбу                           769\n",
       "операции с недвижимостью                  675\n",
       "покупка коммерческой недвижимости         662\n",
       "покупка жилья для сдачи                   652\n",
       "операции с жильем                         652\n",
       "операции с коммерческой недвижимостью     650\n",
       "покупка жилья                             646\n",
       "жилье                                     646\n",
       "покупка жилья для семьи                   638\n",
       "строительство собственной недвижимости    635\n",
       "недвижимость                              633\n",
       "операции со своей недвижимостью           627\n",
       "строительство жилой недвижимости          625\n",
       "покупка недвижимости                      621\n",
       "покупка своего жилья                      620\n",
       "строительство недвижимости                619\n",
       "ремонт жилью                              607\n",
       "покупка жилой недвижимости                606\n",
       "на покупку своего автомобиля              505\n",
       "заняться высшим образованием              496\n",
       "автомобиль                                494\n",
       "сделка с подержанным автомобилем          486\n",
       "свой автомобиль                           479\n",
       "на покупку подержанного автомобиля        478\n",
       "автомобили                                478\n",
       "на покупку автомобиля                     472\n",
       "приобретение автомобиля                   461\n",
       "дополнительное образование                460\n",
       "сделка с автомобилем                      455\n",
       "высшее образование                        452\n",
       "образование                               447\n",
       "получение дополнительного образования     447\n",
       "получение образования                     442\n",
       "профильное образование                    436\n",
       "получение высшего образования             426\n",
       "заняться образованием                     408\n",
       "Name: purpose, dtype: int64"
      ]
     },
     "execution_count": 23,
     "metadata": {},
     "output_type": "execute_result"
    }
   ],
   "source": [
    "data['purpose'].value_counts()"
   ]
  },
  {
   "cell_type": "markdown",
   "id": "746598c6",
   "metadata": {},
   "source": [
    "Цели получения кредитов разные, однако они поддаются группировке. Создадим отдельные категории по цели получения кредита на этапе категоризации данных."
   ]
  },
  {
   "cell_type": "markdown",
   "id": "5833ba0d",
   "metadata": {},
   "source": [
    "* cтолбец total_income\n",
    "\n",
    "как таковых неявных дубликатов в этом столбце не ожидается, но нелишним будет проверить этот столбец на аномальные значения в данных"
   ]
  },
  {
   "cell_type": "code",
   "execution_count": 24,
   "id": "c55b8e5c",
   "metadata": {},
   "outputs": [
    {
     "name": "stdout",
     "output_type": "stream",
     "text": [
      "Минимальный доход 20667\n",
      "Максимальный доход 2265604\n",
      "Средний доход 165209.60015835313\n",
      "Медианный доход 145017.0\n"
     ]
    }
   ],
   "source": [
    "print('Минимальный доход', data['total_income'].min())\n",
    "print('Максимальный доход', data['total_income'].max())\n",
    "print('Средний доход', data['total_income'].mean())\n",
    "print('Медианный доход', data['total_income'].median())"
   ]
  },
  {
   "cell_type": "markdown",
   "id": "126d4e03",
   "metadata": {},
   "source": [
    "Каких-либо аномалий для столбца total_income не выявлено."
   ]
  },
  {
   "cell_type": "markdown",
   "id": "929f74b5",
   "metadata": {},
   "source": [
    "Проверка и обработка неявных дубликатов завершена. Были удалены 54 явных дубликата и решена проблема с неявными дубликатами в столбце education. \n",
    "\n",
    "Для выявления и удаления явных дубликатов  использовались методы duplicated и drop_duplicates, а также reset_index для сброса индексов строк после удаления дубликатов.\n",
    "\n",
    "Для выявления неявных дубликатов использовался метод value_counts, который позволяет одновременно вывести уникальные значения столбца и частотность их повторения. Для удаления неявных дубликатов использовались методы приведения записей в столбцах к нижнему регистру str.lower. Также неявные дубликаты в столбце purpose будут обработаны с помощью создания отдельного столбца с категориями цели кредита на этапе категоризации данных. \n",
    "\n",
    "Вероятнее всего дубликаты возникли на этапе сбора данных вследствие того, что данные вносились по разному (часть - в верхнем регистре, часть - в нижнем). Также информация о цели кредита, видимо, вносилась клиентами в свободной форме. В будущем необходимо ввести правила заполнения и сбора данных, сделать фиксированные списки для аспектов информации о клиентах, поддающихся категоризации (например, цель кредита - покупка автомобиля, покупка недвижимости, образование).\n",
    "\n",
    "Также попутно мы проверили столбцы на аномальные значения, которые не были выявлены на ранней стадии подготовки данных."
   ]
  },
  {
   "cell_type": "markdown",
   "id": "788d886a",
   "metadata": {},
   "source": [
    "Параметры датасета после предобработки:"
   ]
  },
  {
   "cell_type": "code",
   "execution_count": 25,
   "id": "7eb38234",
   "metadata": {},
   "outputs": [
    {
     "name": "stdout",
     "output_type": "stream",
     "text": [
      "<class 'pandas.core.frame.DataFrame'>\n",
      "RangeIndex: 21471 entries, 0 to 21470\n",
      "Data columns (total 12 columns):\n",
      " #   Column            Non-Null Count  Dtype \n",
      "---  ------            --------------  ----- \n",
      " 0   children          21471 non-null  int64 \n",
      " 1   days_employed     21471 non-null  object\n",
      " 2   dob_years         21471 non-null  int64 \n",
      " 3   education         21471 non-null  object\n",
      " 4   education_id      21471 non-null  int64 \n",
      " 5   family_status     21471 non-null  object\n",
      " 6   family_status_id  21471 non-null  int64 \n",
      " 7   gender            21471 non-null  object\n",
      " 8   income_type       21471 non-null  object\n",
      " 9   debt              21471 non-null  int64 \n",
      " 10  total_income      21471 non-null  int32 \n",
      " 11  purpose           21471 non-null  object\n",
      "dtypes: int32(1), int64(5), object(6)\n",
      "memory usage: 1.9+ MB\n"
     ]
    }
   ],
   "source": [
    "data.info()"
   ]
  },
  {
   "cell_type": "markdown",
   "id": "97cb467f",
   "metadata": {},
   "source": [
    "### Категоризация данных"
   ]
  },
  {
   "cell_type": "markdown",
   "id": "2ccef69f",
   "metadata": {},
   "source": [
    "Выполним категоризацию данных для удобства и наглядности дальнейшего анализа."
   ]
  },
  {
   "cell_type": "markdown",
   "id": "787ba8ba",
   "metadata": {},
   "source": [
    "**Создание справочников и удаление избыточных столбцов из датасета**"
   ]
  },
  {
   "cell_type": "markdown",
   "id": "71d7c897",
   "metadata": {},
   "source": [
    "Создадим новые датафреймы - справочники для хранения информации об образовании и семейном положении заемщиков. Это позволит сделать исходную таблицу с данными более лаконичной."
   ]
  },
  {
   "cell_type": "code",
   "execution_count": 26,
   "id": "98ba6379",
   "metadata": {},
   "outputs": [
    {
     "data": {
      "text/html": [
       "<div>\n",
       "<style scoped>\n",
       "    .dataframe tbody tr th:only-of-type {\n",
       "        vertical-align: middle;\n",
       "    }\n",
       "\n",
       "    .dataframe tbody tr th {\n",
       "        vertical-align: top;\n",
       "    }\n",
       "\n",
       "    .dataframe thead th {\n",
       "        text-align: right;\n",
       "    }\n",
       "</style>\n",
       "<table border=\"1\" class=\"dataframe\">\n",
       "  <thead>\n",
       "    <tr style=\"text-align: right;\">\n",
       "      <th></th>\n",
       "      <th>family_status_id</th>\n",
       "      <th>family_status</th>\n",
       "    </tr>\n",
       "  </thead>\n",
       "  <tbody>\n",
       "    <tr>\n",
       "      <th>0</th>\n",
       "      <td>0</td>\n",
       "      <td>женат / замужем</td>\n",
       "    </tr>\n",
       "    <tr>\n",
       "      <th>1</th>\n",
       "      <td>1</td>\n",
       "      <td>гражданский брак</td>\n",
       "    </tr>\n",
       "    <tr>\n",
       "      <th>2</th>\n",
       "      <td>2</td>\n",
       "      <td>вдовец / вдова</td>\n",
       "    </tr>\n",
       "    <tr>\n",
       "      <th>3</th>\n",
       "      <td>3</td>\n",
       "      <td>в разводе</td>\n",
       "    </tr>\n",
       "    <tr>\n",
       "      <th>4</th>\n",
       "      <td>4</td>\n",
       "      <td>не женат / не замужем</td>\n",
       "    </tr>\n",
       "  </tbody>\n",
       "</table>\n",
       "</div>"
      ],
      "text/plain": [
       "   family_status_id          family_status\n",
       "0                 0        женат / замужем\n",
       "1                 1       гражданский брак\n",
       "2                 2         вдовец / вдова\n",
       "3                 3              в разводе\n",
       "4                 4  не женат / не замужем"
      ]
     },
     "metadata": {},
     "output_type": "display_data"
    },
    {
     "data": {
      "text/html": [
       "<div>\n",
       "<style scoped>\n",
       "    .dataframe tbody tr th:only-of-type {\n",
       "        vertical-align: middle;\n",
       "    }\n",
       "\n",
       "    .dataframe tbody tr th {\n",
       "        vertical-align: top;\n",
       "    }\n",
       "\n",
       "    .dataframe thead th {\n",
       "        text-align: right;\n",
       "    }\n",
       "</style>\n",
       "<table border=\"1\" class=\"dataframe\">\n",
       "  <thead>\n",
       "    <tr style=\"text-align: right;\">\n",
       "      <th></th>\n",
       "      <th>education_id</th>\n",
       "      <th>education</th>\n",
       "    </tr>\n",
       "  </thead>\n",
       "  <tbody>\n",
       "    <tr>\n",
       "      <th>0</th>\n",
       "      <td>0</td>\n",
       "      <td>высшее</td>\n",
       "    </tr>\n",
       "    <tr>\n",
       "      <th>1</th>\n",
       "      <td>1</td>\n",
       "      <td>среднее</td>\n",
       "    </tr>\n",
       "    <tr>\n",
       "      <th>2</th>\n",
       "      <td>2</td>\n",
       "      <td>неоконченное высшее</td>\n",
       "    </tr>\n",
       "    <tr>\n",
       "      <th>3</th>\n",
       "      <td>3</td>\n",
       "      <td>начальное</td>\n",
       "    </tr>\n",
       "    <tr>\n",
       "      <th>4</th>\n",
       "      <td>4</td>\n",
       "      <td>ученая степень</td>\n",
       "    </tr>\n",
       "  </tbody>\n",
       "</table>\n",
       "</div>"
      ],
      "text/plain": [
       "   education_id            education\n",
       "0             0               высшее\n",
       "1             1              среднее\n",
       "2             2  неоконченное высшее\n",
       "3             3            начальное\n",
       "4             4       ученая степень"
      ]
     },
     "metadata": {},
     "output_type": "display_data"
    }
   ],
   "source": [
    "# создадим новые датафреймы путем выбора нужных столбцов из исходного датафрейма и удаления дубликатов, \n",
    "#таким образом получим таблицы - справочники\n",
    "\n",
    "family_status = data[['family_status_id', 'family_status']].drop_duplicates().reset_index(drop = True)\n",
    "education = data[['education_id', 'education']].drop_duplicates().reset_index(drop = True)\n",
    "\n",
    "display(family_status, education) # выводим получившиеся датафреймы. "
   ]
  },
  {
   "cell_type": "markdown",
   "id": "cbde1f05",
   "metadata": {},
   "source": [
    "После создания справочников удалим из датасета столбцы education и family status. Также удалим столбец days_employed."
   ]
  },
  {
   "cell_type": "code",
   "execution_count": 27,
   "id": "b720d7b3",
   "metadata": {},
   "outputs": [
    {
     "data": {
      "text/html": [
       "<div>\n",
       "<style scoped>\n",
       "    .dataframe tbody tr th:only-of-type {\n",
       "        vertical-align: middle;\n",
       "    }\n",
       "\n",
       "    .dataframe tbody tr th {\n",
       "        vertical-align: top;\n",
       "    }\n",
       "\n",
       "    .dataframe thead th {\n",
       "        text-align: right;\n",
       "    }\n",
       "</style>\n",
       "<table border=\"1\" class=\"dataframe\">\n",
       "  <thead>\n",
       "    <tr style=\"text-align: right;\">\n",
       "      <th></th>\n",
       "      <th>children</th>\n",
       "      <th>dob_years</th>\n",
       "      <th>education_id</th>\n",
       "      <th>family_status_id</th>\n",
       "      <th>gender</th>\n",
       "      <th>income_type</th>\n",
       "      <th>debt</th>\n",
       "      <th>total_income</th>\n",
       "      <th>purpose</th>\n",
       "    </tr>\n",
       "  </thead>\n",
       "  <tbody>\n",
       "    <tr>\n",
       "      <th>0</th>\n",
       "      <td>1</td>\n",
       "      <td>42</td>\n",
       "      <td>0</td>\n",
       "      <td>0</td>\n",
       "      <td>F</td>\n",
       "      <td>сотрудник</td>\n",
       "      <td>0</td>\n",
       "      <td>253875</td>\n",
       "      <td>покупка жилья</td>\n",
       "    </tr>\n",
       "    <tr>\n",
       "      <th>1</th>\n",
       "      <td>1</td>\n",
       "      <td>36</td>\n",
       "      <td>1</td>\n",
       "      <td>0</td>\n",
       "      <td>F</td>\n",
       "      <td>сотрудник</td>\n",
       "      <td>0</td>\n",
       "      <td>112080</td>\n",
       "      <td>приобретение автомобиля</td>\n",
       "    </tr>\n",
       "    <tr>\n",
       "      <th>2</th>\n",
       "      <td>0</td>\n",
       "      <td>33</td>\n",
       "      <td>1</td>\n",
       "      <td>0</td>\n",
       "      <td>M</td>\n",
       "      <td>сотрудник</td>\n",
       "      <td>0</td>\n",
       "      <td>145885</td>\n",
       "      <td>покупка жилья</td>\n",
       "    </tr>\n",
       "    <tr>\n",
       "      <th>3</th>\n",
       "      <td>3</td>\n",
       "      <td>32</td>\n",
       "      <td>1</td>\n",
       "      <td>0</td>\n",
       "      <td>M</td>\n",
       "      <td>сотрудник</td>\n",
       "      <td>0</td>\n",
       "      <td>267628</td>\n",
       "      <td>дополнительное образование</td>\n",
       "    </tr>\n",
       "    <tr>\n",
       "      <th>4</th>\n",
       "      <td>0</td>\n",
       "      <td>53</td>\n",
       "      <td>1</td>\n",
       "      <td>1</td>\n",
       "      <td>F</td>\n",
       "      <td>пенсионер</td>\n",
       "      <td>0</td>\n",
       "      <td>158616</td>\n",
       "      <td>сыграть свадьбу</td>\n",
       "    </tr>\n",
       "  </tbody>\n",
       "</table>\n",
       "</div>"
      ],
      "text/plain": [
       "   children  dob_years  education_id  family_status_id gender income_type  \\\n",
       "0         1         42             0                 0      F   сотрудник   \n",
       "1         1         36             1                 0      F   сотрудник   \n",
       "2         0         33             1                 0      M   сотрудник   \n",
       "3         3         32             1                 0      M   сотрудник   \n",
       "4         0         53             1                 1      F   пенсионер   \n",
       "\n",
       "   debt  total_income                     purpose  \n",
       "0     0        253875               покупка жилья  \n",
       "1     0        112080     приобретение автомобиля  \n",
       "2     0        145885               покупка жилья  \n",
       "3     0        267628  дополнительное образование  \n",
       "4     0        158616             сыграть свадьбу  "
      ]
     },
     "execution_count": 27,
     "metadata": {},
     "output_type": "execute_result"
    }
   ],
   "source": [
    "data = data.drop(['education', 'family_status', 'days_employed'], axis = 1) # удаляем столбцы методом drop\n",
    "data.head() # выводим измененный датасет"
   ]
  },
  {
   "cell_type": "markdown",
   "id": "5e8d5d30",
   "metadata": {},
   "source": [
    "**Выделение категорий**"
   ]
  },
  {
   "cell_type": "markdown",
   "id": "f0ad1cad",
   "metadata": {},
   "source": [
    "Выделим категории доходов заещиков и напишем функцию для автоматического присвоения категорий:\n",
    "\n",
    "* 0–30000 — 'E';\n",
    "* 30001–50000 — 'D';\n",
    "* 50001–200000 — 'C';\n",
    "* 200001–1000000 — 'B';\n",
    "* 1000001 и выше — 'A'."
   ]
  },
  {
   "cell_type": "code",
   "execution_count": 28,
   "id": "a7686a5f",
   "metadata": {},
   "outputs": [],
   "source": [
    "def total_income_category(total_income):  # создаем функцию для категоризации заемщиков по уровню дохода\n",
    "    if 0 < total_income <= 30000:\n",
    "        return 'E'\n",
    "    if 30000 < total_income <= 50000:\n",
    "        return 'D'\n",
    "    if 50000 < total_income <= 200000:\n",
    "        return 'C'\n",
    "    if 200000 < total_income < 1000000:\n",
    "        return 'B'\n",
    "    if 1000000 < total_income:\n",
    "        return 'A'"
   ]
  },
  {
   "cell_type": "markdown",
   "id": "c767e164",
   "metadata": {},
   "source": [
    "Создадим новый столбец 'total_income_category', который заполним обозначениями категорий дохода"
   ]
  },
  {
   "cell_type": "code",
   "execution_count": 29,
   "id": "8213bbdc",
   "metadata": {},
   "outputs": [
    {
     "data": {
      "text/html": [
       "<div>\n",
       "<style scoped>\n",
       "    .dataframe tbody tr th:only-of-type {\n",
       "        vertical-align: middle;\n",
       "    }\n",
       "\n",
       "    .dataframe tbody tr th {\n",
       "        vertical-align: top;\n",
       "    }\n",
       "\n",
       "    .dataframe thead th {\n",
       "        text-align: right;\n",
       "    }\n",
       "</style>\n",
       "<table border=\"1\" class=\"dataframe\">\n",
       "  <thead>\n",
       "    <tr style=\"text-align: right;\">\n",
       "      <th></th>\n",
       "      <th>children</th>\n",
       "      <th>dob_years</th>\n",
       "      <th>education_id</th>\n",
       "      <th>family_status_id</th>\n",
       "      <th>gender</th>\n",
       "      <th>income_type</th>\n",
       "      <th>debt</th>\n",
       "      <th>total_income</th>\n",
       "      <th>purpose</th>\n",
       "      <th>total_income_category</th>\n",
       "    </tr>\n",
       "  </thead>\n",
       "  <tbody>\n",
       "    <tr>\n",
       "      <th>0</th>\n",
       "      <td>1</td>\n",
       "      <td>42</td>\n",
       "      <td>0</td>\n",
       "      <td>0</td>\n",
       "      <td>F</td>\n",
       "      <td>сотрудник</td>\n",
       "      <td>0</td>\n",
       "      <td>253875</td>\n",
       "      <td>покупка жилья</td>\n",
       "      <td>B</td>\n",
       "    </tr>\n",
       "    <tr>\n",
       "      <th>1</th>\n",
       "      <td>1</td>\n",
       "      <td>36</td>\n",
       "      <td>1</td>\n",
       "      <td>0</td>\n",
       "      <td>F</td>\n",
       "      <td>сотрудник</td>\n",
       "      <td>0</td>\n",
       "      <td>112080</td>\n",
       "      <td>приобретение автомобиля</td>\n",
       "      <td>C</td>\n",
       "    </tr>\n",
       "    <tr>\n",
       "      <th>2</th>\n",
       "      <td>0</td>\n",
       "      <td>33</td>\n",
       "      <td>1</td>\n",
       "      <td>0</td>\n",
       "      <td>M</td>\n",
       "      <td>сотрудник</td>\n",
       "      <td>0</td>\n",
       "      <td>145885</td>\n",
       "      <td>покупка жилья</td>\n",
       "      <td>C</td>\n",
       "    </tr>\n",
       "    <tr>\n",
       "      <th>3</th>\n",
       "      <td>3</td>\n",
       "      <td>32</td>\n",
       "      <td>1</td>\n",
       "      <td>0</td>\n",
       "      <td>M</td>\n",
       "      <td>сотрудник</td>\n",
       "      <td>0</td>\n",
       "      <td>267628</td>\n",
       "      <td>дополнительное образование</td>\n",
       "      <td>B</td>\n",
       "    </tr>\n",
       "    <tr>\n",
       "      <th>4</th>\n",
       "      <td>0</td>\n",
       "      <td>53</td>\n",
       "      <td>1</td>\n",
       "      <td>1</td>\n",
       "      <td>F</td>\n",
       "      <td>пенсионер</td>\n",
       "      <td>0</td>\n",
       "      <td>158616</td>\n",
       "      <td>сыграть свадьбу</td>\n",
       "      <td>C</td>\n",
       "    </tr>\n",
       "  </tbody>\n",
       "</table>\n",
       "</div>"
      ],
      "text/plain": [
       "   children  dob_years  education_id  family_status_id gender income_type  \\\n",
       "0         1         42             0                 0      F   сотрудник   \n",
       "1         1         36             1                 0      F   сотрудник   \n",
       "2         0         33             1                 0      M   сотрудник   \n",
       "3         3         32             1                 0      M   сотрудник   \n",
       "4         0         53             1                 1      F   пенсионер   \n",
       "\n",
       "   debt  total_income                     purpose total_income_category  \n",
       "0     0        253875               покупка жилья                     B  \n",
       "1     0        112080     приобретение автомобиля                     C  \n",
       "2     0        145885               покупка жилья                     C  \n",
       "3     0        267628  дополнительное образование                     B  \n",
       "4     0        158616             сыграть свадьбу                     C  "
      ]
     },
     "execution_count": 29,
     "metadata": {},
     "output_type": "execute_result"
    }
   ],
   "source": [
    "data['total_income_category'] = data['total_income'].apply(total_income_category) # применяем созданную ранее функцию к значениям в столбце total_income с помощью метода apply \n",
    "data.head() # выводим обновленный датасет для проверки"
   ]
  },
  {
   "cell_type": "markdown",
   "id": "e248eb79",
   "metadata": {},
   "source": [
    "Создадим функцию для определения категорий назначения кредита. Для определения принадлежности к той или иной категории используем поиск по подстрокам.\n",
    "\n",
    "* ‘операции с автомобилем’, : 'авто'\n",
    "* ‘операции с недвижимостью’, : 'недвиж', 'жил'\n",
    "* ‘проведение свадьбы’, : 'свадьб'\n",
    "* ‘получение образования’ : 'образован'\n"
   ]
  },
  {
   "cell_type": "code",
   "execution_count": 30,
   "id": "a239e8f8",
   "metadata": {},
   "outputs": [],
   "source": [
    "def purpose_category(purpose):\n",
    "    if 'авто' in purpose:\n",
    "        return 'операции с автомобилем'\n",
    "    elif 'недвиж' in purpose or 'жил' in purpose:\n",
    "        return 'операции с недвижимостью'\n",
    "    elif 'свадьб' in purpose:\n",
    "        return 'проведение свадьбы'\n",
    "    elif 'образован' in purpose:\n",
    "        return 'получение образования'"
   ]
  },
  {
   "cell_type": "markdown",
   "id": "583cf784",
   "metadata": {},
   "source": [
    "Создадим новый столбец 'purpose_category', который заполним обозначениями категорий назначения кредита"
   ]
  },
  {
   "cell_type": "code",
   "execution_count": 31,
   "id": "aabb1b6a",
   "metadata": {},
   "outputs": [
    {
     "data": {
      "text/html": [
       "<div>\n",
       "<style scoped>\n",
       "    .dataframe tbody tr th:only-of-type {\n",
       "        vertical-align: middle;\n",
       "    }\n",
       "\n",
       "    .dataframe tbody tr th {\n",
       "        vertical-align: top;\n",
       "    }\n",
       "\n",
       "    .dataframe thead th {\n",
       "        text-align: right;\n",
       "    }\n",
       "</style>\n",
       "<table border=\"1\" class=\"dataframe\">\n",
       "  <thead>\n",
       "    <tr style=\"text-align: right;\">\n",
       "      <th></th>\n",
       "      <th>children</th>\n",
       "      <th>dob_years</th>\n",
       "      <th>education_id</th>\n",
       "      <th>family_status_id</th>\n",
       "      <th>gender</th>\n",
       "      <th>income_type</th>\n",
       "      <th>debt</th>\n",
       "      <th>total_income</th>\n",
       "      <th>purpose</th>\n",
       "      <th>total_income_category</th>\n",
       "      <th>purpose_category</th>\n",
       "    </tr>\n",
       "  </thead>\n",
       "  <tbody>\n",
       "    <tr>\n",
       "      <th>0</th>\n",
       "      <td>1</td>\n",
       "      <td>42</td>\n",
       "      <td>0</td>\n",
       "      <td>0</td>\n",
       "      <td>F</td>\n",
       "      <td>сотрудник</td>\n",
       "      <td>0</td>\n",
       "      <td>253875</td>\n",
       "      <td>покупка жилья</td>\n",
       "      <td>B</td>\n",
       "      <td>операции с недвижимостью</td>\n",
       "    </tr>\n",
       "    <tr>\n",
       "      <th>1</th>\n",
       "      <td>1</td>\n",
       "      <td>36</td>\n",
       "      <td>1</td>\n",
       "      <td>0</td>\n",
       "      <td>F</td>\n",
       "      <td>сотрудник</td>\n",
       "      <td>0</td>\n",
       "      <td>112080</td>\n",
       "      <td>приобретение автомобиля</td>\n",
       "      <td>C</td>\n",
       "      <td>операции с автомобилем</td>\n",
       "    </tr>\n",
       "    <tr>\n",
       "      <th>2</th>\n",
       "      <td>0</td>\n",
       "      <td>33</td>\n",
       "      <td>1</td>\n",
       "      <td>0</td>\n",
       "      <td>M</td>\n",
       "      <td>сотрудник</td>\n",
       "      <td>0</td>\n",
       "      <td>145885</td>\n",
       "      <td>покупка жилья</td>\n",
       "      <td>C</td>\n",
       "      <td>операции с недвижимостью</td>\n",
       "    </tr>\n",
       "    <tr>\n",
       "      <th>3</th>\n",
       "      <td>3</td>\n",
       "      <td>32</td>\n",
       "      <td>1</td>\n",
       "      <td>0</td>\n",
       "      <td>M</td>\n",
       "      <td>сотрудник</td>\n",
       "      <td>0</td>\n",
       "      <td>267628</td>\n",
       "      <td>дополнительное образование</td>\n",
       "      <td>B</td>\n",
       "      <td>получение образования</td>\n",
       "    </tr>\n",
       "    <tr>\n",
       "      <th>4</th>\n",
       "      <td>0</td>\n",
       "      <td>53</td>\n",
       "      <td>1</td>\n",
       "      <td>1</td>\n",
       "      <td>F</td>\n",
       "      <td>пенсионер</td>\n",
       "      <td>0</td>\n",
       "      <td>158616</td>\n",
       "      <td>сыграть свадьбу</td>\n",
       "      <td>C</td>\n",
       "      <td>проведение свадьбы</td>\n",
       "    </tr>\n",
       "  </tbody>\n",
       "</table>\n",
       "</div>"
      ],
      "text/plain": [
       "   children  dob_years  education_id  family_status_id gender income_type  \\\n",
       "0         1         42             0                 0      F   сотрудник   \n",
       "1         1         36             1                 0      F   сотрудник   \n",
       "2         0         33             1                 0      M   сотрудник   \n",
       "3         3         32             1                 0      M   сотрудник   \n",
       "4         0         53             1                 1      F   пенсионер   \n",
       "\n",
       "   debt  total_income                     purpose total_income_category  \\\n",
       "0     0        253875               покупка жилья                     B   \n",
       "1     0        112080     приобретение автомобиля                     C   \n",
       "2     0        145885               покупка жилья                     C   \n",
       "3     0        267628  дополнительное образование                     B   \n",
       "4     0        158616             сыграть свадьбу                     C   \n",
       "\n",
       "           purpose_category  \n",
       "0  операции с недвижимостью  \n",
       "1    операции с автомобилем  \n",
       "2  операции с недвижимостью  \n",
       "3     получение образования  \n",
       "4        проведение свадьбы  "
      ]
     },
     "metadata": {},
     "output_type": "display_data"
    },
    {
     "name": "stdout",
     "output_type": "stream",
     "text": [
      "операции с недвижимостью    10814\n",
      "операции с автомобилем       4308\n",
      "получение образования        4014\n",
      "проведение свадьбы           2335\n",
      "Name: purpose_category, dtype: int64\n"
     ]
    }
   ],
   "source": [
    "data['purpose_category'] = data['purpose'].apply(purpose_category) # применяем созданную ранее функцию к значениям в столбце total_income с помощью метода apply \n",
    "display(data.head()) # выводим обновленный датасет для проверки\n",
    "print(data['purpose_category'].value_counts()) # на всякий случай проверим, что ко всем строкам были подобраны категории по ключевым словам (подстрокам)"
   ]
  },
  {
   "cell_type": "markdown",
   "id": "c0a96dcb",
   "metadata": {},
   "source": [
    "Предобработка данных завершена, были устранены пропуски в данных, исправлены аномальные значения, проверены и удалены явные и неявные дубликаты, а также выполнена категоризация данных. Можно переходить непосредственно к анализу данных."
   ]
  },
  {
   "cell_type": "markdown",
   "id": "f1116a4b",
   "metadata": {},
   "source": [
    "## Анализ данных и решение поставленных задач"
   ]
  },
  {
   "cell_type": "markdown",
   "id": "adb261f2",
   "metadata": {},
   "source": [
    "В данном разделе мы перейдем к непосредственному анализу данных и постараемся ответить на вопросы, обозначенные в начале исследования."
   ]
  },
  {
   "cell_type": "markdown",
   "id": "f8e31aeb",
   "metadata": {},
   "source": [
    "**1. Есть ли зависимость между количеством детей и возвратом кредита в срок?**\n",
    "\n",
    "Сформулируем исходную гипотезу: с увеличением количества детей в семье вероятность возврата кредита в срок снижается."
   ]
  },
  {
   "cell_type": "markdown",
   "id": "74c3b7c8",
   "metadata": {},
   "source": [
    "Напишем функцию, которая будет строить сводную таблицу, которая отражает количество детей и наличие задолженности по кредиту  с помощью метода pivot_table. Аргументом функции будет название столбца датафрейма, который будет источником для строк сводной таблицы.\n",
    "\n",
    "Основную информацию и значения по столбцам мы проверили на этапе предобработки данных, получения ошибок при выполнении кода не ожидается, поэтому не будем применять обработчик ошибок **try...except...** в данном проекте. "
   ]
  },
  {
   "cell_type": "code",
   "execution_count": 32,
   "id": "0a751576",
   "metadata": {},
   "outputs": [],
   "source": [
    "def def_pivot(pivot_index):\n",
    "    pivot_def = pd.pivot_table(data, values = ['debt','gender'], index = [pivot_index], aggfunc = {'debt' : 'sum', 'gender' : 'count'}) \n",
    "    # строим сводную таблицу с двумя значениями, sum по столбцу debt для подсчета количества заемщиков с задолженностью и count для подсчета общего количества заемщиков в каждой категории\n",
    "    pivot_def['debt_share'] = (pivot_def['debt'] / pivot_def['gender'] * 100).round(decimals = 1) # добавляем столбец с долей должников от общего количества заемщиков\n",
    "    pivot_def = pivot_def.rename(columns = {'gender' : 'total'}) # переименовываем столбец с подсчетом общего количества заемщиков в каждой категории\n",
    "    return pivot_def.sort_values(by = 'debt_share', ascending = False) # выводим итоговую таблицу, отсортированную по убыванию доли заемщиков с задолженностью"
   ]
  },
  {
   "cell_type": "code",
   "execution_count": 33,
   "id": "0e034559",
   "metadata": {},
   "outputs": [
    {
     "data": {
      "text/html": [
       "<div>\n",
       "<style scoped>\n",
       "    .dataframe tbody tr th:only-of-type {\n",
       "        vertical-align: middle;\n",
       "    }\n",
       "\n",
       "    .dataframe tbody tr th {\n",
       "        vertical-align: top;\n",
       "    }\n",
       "\n",
       "    .dataframe thead th {\n",
       "        text-align: right;\n",
       "    }\n",
       "</style>\n",
       "<table border=\"1\" class=\"dataframe\">\n",
       "  <thead>\n",
       "    <tr style=\"text-align: right;\">\n",
       "      <th></th>\n",
       "      <th>debt</th>\n",
       "      <th>total</th>\n",
       "      <th>debt_share</th>\n",
       "    </tr>\n",
       "    <tr>\n",
       "      <th>children</th>\n",
       "      <th></th>\n",
       "      <th></th>\n",
       "      <th></th>\n",
       "    </tr>\n",
       "  </thead>\n",
       "  <tbody>\n",
       "    <tr>\n",
       "      <th>4</th>\n",
       "      <td>4</td>\n",
       "      <td>41</td>\n",
       "      <td>9.8</td>\n",
       "    </tr>\n",
       "    <tr>\n",
       "      <th>2</th>\n",
       "      <td>194</td>\n",
       "      <td>2052</td>\n",
       "      <td>9.5</td>\n",
       "    </tr>\n",
       "    <tr>\n",
       "      <th>1</th>\n",
       "      <td>444</td>\n",
       "      <td>4809</td>\n",
       "      <td>9.2</td>\n",
       "    </tr>\n",
       "    <tr>\n",
       "      <th>3</th>\n",
       "      <td>27</td>\n",
       "      <td>330</td>\n",
       "      <td>8.2</td>\n",
       "    </tr>\n",
       "    <tr>\n",
       "      <th>0</th>\n",
       "      <td>1072</td>\n",
       "      <td>14230</td>\n",
       "      <td>7.5</td>\n",
       "    </tr>\n",
       "    <tr>\n",
       "      <th>5</th>\n",
       "      <td>0</td>\n",
       "      <td>9</td>\n",
       "      <td>0.0</td>\n",
       "    </tr>\n",
       "  </tbody>\n",
       "</table>\n",
       "</div>"
      ],
      "text/plain": [
       "          debt  total  debt_share\n",
       "children                         \n",
       "4            4     41         9.8\n",
       "2          194   2052         9.5\n",
       "1          444   4809         9.2\n",
       "3           27    330         8.2\n",
       "0         1072  14230         7.5\n",
       "5            0      9         0.0"
      ]
     },
     "metadata": {},
     "output_type": "display_data"
    }
   ],
   "source": [
    "display(def_pivot('children'))"
   ]
  },
  {
   "cell_type": "markdown",
   "id": "2584a263",
   "metadata": {},
   "source": [
    "В получившейся таблице children отражает количество детей в семье заемщика, debt количество заемщиков, допустивших просрочку по выплатам кредита, non-debt количество заемщиков без просрочек по кредитам и debt_share доля заещиков с просрочкой в общем количестве заемщиков.\n",
    "\n",
    "Максимальное количество заемщиков с просрочкой не имеет детей, однако делать выводы преждевременно, так как заемщики без детей составляют самое большое количество среди заемщиков. \n",
    "\n",
    "Сравним доли заемщиков с просрочкой от общего количества заемщиков. На первом месте с долей 9.8% заемщики с четырьмя детьми, далее располагаются заемщики с двумя, одним и тремя детьми. Доля просрочек по кредитам среди заемщиков без детей составляет 7.5%. Среди полученной статистики из общей закономерности выбивается 9 заемщиков с пятью детьми, не имевших просрочек по кредитам. Взглянем подробнее на данные по таким заемщикам."
   ]
  },
  {
   "cell_type": "code",
   "execution_count": 34,
   "id": "bff3969a",
   "metadata": {},
   "outputs": [
    {
     "data": {
      "text/html": [
       "<div>\n",
       "<style scoped>\n",
       "    .dataframe tbody tr th:only-of-type {\n",
       "        vertical-align: middle;\n",
       "    }\n",
       "\n",
       "    .dataframe tbody tr th {\n",
       "        vertical-align: top;\n",
       "    }\n",
       "\n",
       "    .dataframe thead th {\n",
       "        text-align: right;\n",
       "    }\n",
       "</style>\n",
       "<table border=\"1\" class=\"dataframe\">\n",
       "  <thead>\n",
       "    <tr style=\"text-align: right;\">\n",
       "      <th></th>\n",
       "      <th>children</th>\n",
       "      <th>dob_years</th>\n",
       "      <th>education_id</th>\n",
       "      <th>family_status_id</th>\n",
       "      <th>gender</th>\n",
       "      <th>income_type</th>\n",
       "      <th>debt</th>\n",
       "      <th>total_income</th>\n",
       "      <th>purpose</th>\n",
       "      <th>total_income_category</th>\n",
       "      <th>purpose_category</th>\n",
       "    </tr>\n",
       "  </thead>\n",
       "  <tbody>\n",
       "    <tr>\n",
       "      <th>3978</th>\n",
       "      <td>5</td>\n",
       "      <td>42</td>\n",
       "      <td>1</td>\n",
       "      <td>1</td>\n",
       "      <td>M</td>\n",
       "      <td>сотрудник</td>\n",
       "      <td>0</td>\n",
       "      <td>145017</td>\n",
       "      <td>на покупку своего автомобиля</td>\n",
       "      <td>C</td>\n",
       "      <td>операции с автомобилем</td>\n",
       "    </tr>\n",
       "    <tr>\n",
       "      <th>4395</th>\n",
       "      <td>5</td>\n",
       "      <td>36</td>\n",
       "      <td>1</td>\n",
       "      <td>0</td>\n",
       "      <td>F</td>\n",
       "      <td>компаньон</td>\n",
       "      <td>0</td>\n",
       "      <td>168460</td>\n",
       "      <td>операции с недвижимостью</td>\n",
       "      <td>C</td>\n",
       "      <td>операции с недвижимостью</td>\n",
       "    </tr>\n",
       "    <tr>\n",
       "      <th>7861</th>\n",
       "      <td>5</td>\n",
       "      <td>36</td>\n",
       "      <td>1</td>\n",
       "      <td>0</td>\n",
       "      <td>F</td>\n",
       "      <td>сотрудник</td>\n",
       "      <td>0</td>\n",
       "      <td>48772</td>\n",
       "      <td>операции с жильем</td>\n",
       "      <td>D</td>\n",
       "      <td>операции с недвижимостью</td>\n",
       "    </tr>\n",
       "    <tr>\n",
       "      <th>15795</th>\n",
       "      <td>5</td>\n",
       "      <td>31</td>\n",
       "      <td>1</td>\n",
       "      <td>0</td>\n",
       "      <td>F</td>\n",
       "      <td>сотрудник</td>\n",
       "      <td>0</td>\n",
       "      <td>77552</td>\n",
       "      <td>сделка с подержанным автомобилем</td>\n",
       "      <td>C</td>\n",
       "      <td>операции с автомобилем</td>\n",
       "    </tr>\n",
       "    <tr>\n",
       "      <th>15889</th>\n",
       "      <td>5</td>\n",
       "      <td>37</td>\n",
       "      <td>1</td>\n",
       "      <td>0</td>\n",
       "      <td>F</td>\n",
       "      <td>сотрудник</td>\n",
       "      <td>0</td>\n",
       "      <td>256698</td>\n",
       "      <td>покупка недвижимости</td>\n",
       "      <td>B</td>\n",
       "      <td>операции с недвижимостью</td>\n",
       "    </tr>\n",
       "    <tr>\n",
       "      <th>16183</th>\n",
       "      <td>5</td>\n",
       "      <td>35</td>\n",
       "      <td>1</td>\n",
       "      <td>1</td>\n",
       "      <td>F</td>\n",
       "      <td>госслужащий</td>\n",
       "      <td>0</td>\n",
       "      <td>126102</td>\n",
       "      <td>на проведение свадьбы</td>\n",
       "      <td>C</td>\n",
       "      <td>проведение свадьбы</td>\n",
       "    </tr>\n",
       "    <tr>\n",
       "      <th>20403</th>\n",
       "      <td>5</td>\n",
       "      <td>38</td>\n",
       "      <td>3</td>\n",
       "      <td>0</td>\n",
       "      <td>F</td>\n",
       "      <td>сотрудник</td>\n",
       "      <td>0</td>\n",
       "      <td>212545</td>\n",
       "      <td>заняться высшим образованием</td>\n",
       "      <td>B</td>\n",
       "      <td>получение образования</td>\n",
       "    </tr>\n",
       "    <tr>\n",
       "      <th>20787</th>\n",
       "      <td>5</td>\n",
       "      <td>35</td>\n",
       "      <td>1</td>\n",
       "      <td>0</td>\n",
       "      <td>F</td>\n",
       "      <td>компаньон</td>\n",
       "      <td>0</td>\n",
       "      <td>204241</td>\n",
       "      <td>жилье</td>\n",
       "      <td>B</td>\n",
       "      <td>операции с недвижимостью</td>\n",
       "    </tr>\n",
       "    <tr>\n",
       "      <th>21104</th>\n",
       "      <td>5</td>\n",
       "      <td>59</td>\n",
       "      <td>1</td>\n",
       "      <td>0</td>\n",
       "      <td>M</td>\n",
       "      <td>сотрудник</td>\n",
       "      <td>0</td>\n",
       "      <td>269068</td>\n",
       "      <td>операции со своей недвижимостью</td>\n",
       "      <td>B</td>\n",
       "      <td>операции с недвижимостью</td>\n",
       "    </tr>\n",
       "  </tbody>\n",
       "</table>\n",
       "</div>"
      ],
      "text/plain": [
       "       children  dob_years  education_id  family_status_id gender  \\\n",
       "3978          5         42             1                 1      M   \n",
       "4395          5         36             1                 0      F   \n",
       "7861          5         36             1                 0      F   \n",
       "15795         5         31             1                 0      F   \n",
       "15889         5         37             1                 0      F   \n",
       "16183         5         35             1                 1      F   \n",
       "20403         5         38             3                 0      F   \n",
       "20787         5         35             1                 0      F   \n",
       "21104         5         59             1                 0      M   \n",
       "\n",
       "       income_type  debt  total_income                           purpose  \\\n",
       "3978     сотрудник     0        145017      на покупку своего автомобиля   \n",
       "4395     компаньон     0        168460          операции с недвижимостью   \n",
       "7861     сотрудник     0         48772                 операции с жильем   \n",
       "15795    сотрудник     0         77552  сделка с подержанным автомобилем   \n",
       "15889    сотрудник     0        256698              покупка недвижимости   \n",
       "16183  госслужащий     0        126102             на проведение свадьбы   \n",
       "20403    сотрудник     0        212545      заняться высшим образованием   \n",
       "20787    компаньон     0        204241                             жилье   \n",
       "21104    сотрудник     0        269068   операции со своей недвижимостью   \n",
       "\n",
       "      total_income_category          purpose_category  \n",
       "3978                      C    операции с автомобилем  \n",
       "4395                      C  операции с недвижимостью  \n",
       "7861                      D  операции с недвижимостью  \n",
       "15795                     C    операции с автомобилем  \n",
       "15889                     B  операции с недвижимостью  \n",
       "16183                     C        проведение свадьбы  \n",
       "20403                     B     получение образования  \n",
       "20787                     B  операции с недвижимостью  \n",
       "21104                     B  операции с недвижимостью  "
      ]
     },
     "metadata": {},
     "output_type": "display_data"
    }
   ],
   "source": [
    "display(data[data['children'] == 5])"
   ]
  },
  {
   "cell_type": "markdown",
   "id": "6ff4082c",
   "metadata": {},
   "source": [
    "Явных проблем и несоответствий с данными строчками не выявлено. у 7 из 9 заемщиков совокупный доход составляет более 100 тыс. руб., что косвенно подтверждает гипотезу о корректности данных. Будем считать, что данные заемщики обладают исключительно \n",
    "хорошими навыками финансового планирования и смогли вернуть свои кредиты без просрочек."
   ]
  },
  {
   "cell_type": "markdown",
   "id": "fa3b579b",
   "metadata": {},
   "source": [
    "**Выводы**"
   ]
  },
  {
   "cell_type": "markdown",
   "id": "66cc707d",
   "metadata": {},
   "source": [
    "Таким образом, между наличием детей и просрочками по кредиту есть зависимость. Доля должников больше среди заемщиков, имеющих детей и, соответственно, более высокие запланированные и незапланированные расходы. Однако прямой зависимости между количеством детей и долей заемщиков с задолженностью не выявлено, исходная гипотеза подтвердилась лишь частично."
   ]
  },
  {
   "cell_type": "markdown",
   "id": "ba98d73b",
   "metadata": {},
   "source": [
    "**2. Есть ли зависимость между семейным положением и возвратом кредита в срок?**\n",
    "\n",
    "Исходная гипотеза: разное семейное положение влияет на выплату кредита в срок"
   ]
  },
  {
   "cell_type": "markdown",
   "id": "16e915a0",
   "metadata": {},
   "source": [
    "Построим соответствующую сводную таблицу для проверки данной гипотезы. За основу возьмем конструкцию из предыдущей задачи, в качестве строк сводной таблицы будет использоваться категория семейного положения."
   ]
  },
  {
   "cell_type": "code",
   "execution_count": 35,
   "id": "902c777b",
   "metadata": {},
   "outputs": [
    {
     "data": {
      "text/html": [
       "<div>\n",
       "<style scoped>\n",
       "    .dataframe tbody tr th:only-of-type {\n",
       "        vertical-align: middle;\n",
       "    }\n",
       "\n",
       "    .dataframe tbody tr th {\n",
       "        vertical-align: top;\n",
       "    }\n",
       "\n",
       "    .dataframe thead th {\n",
       "        text-align: right;\n",
       "    }\n",
       "</style>\n",
       "<table border=\"1\" class=\"dataframe\">\n",
       "  <thead>\n",
       "    <tr style=\"text-align: right;\">\n",
       "      <th></th>\n",
       "      <th>family_status_id</th>\n",
       "      <th>debt</th>\n",
       "      <th>total</th>\n",
       "      <th>debt_share</th>\n",
       "      <th>family_status</th>\n",
       "    </tr>\n",
       "  </thead>\n",
       "  <tbody>\n",
       "    <tr>\n",
       "      <th>0</th>\n",
       "      <td>4</td>\n",
       "      <td>274</td>\n",
       "      <td>2810</td>\n",
       "      <td>9.8</td>\n",
       "      <td>не женат / не замужем</td>\n",
       "    </tr>\n",
       "    <tr>\n",
       "      <th>1</th>\n",
       "      <td>1</td>\n",
       "      <td>388</td>\n",
       "      <td>4163</td>\n",
       "      <td>9.3</td>\n",
       "      <td>гражданский брак</td>\n",
       "    </tr>\n",
       "    <tr>\n",
       "      <th>2</th>\n",
       "      <td>0</td>\n",
       "      <td>931</td>\n",
       "      <td>12344</td>\n",
       "      <td>7.5</td>\n",
       "      <td>женат / замужем</td>\n",
       "    </tr>\n",
       "    <tr>\n",
       "      <th>3</th>\n",
       "      <td>3</td>\n",
       "      <td>85</td>\n",
       "      <td>1195</td>\n",
       "      <td>7.1</td>\n",
       "      <td>в разводе</td>\n",
       "    </tr>\n",
       "    <tr>\n",
       "      <th>4</th>\n",
       "      <td>2</td>\n",
       "      <td>63</td>\n",
       "      <td>959</td>\n",
       "      <td>6.6</td>\n",
       "      <td>вдовец / вдова</td>\n",
       "    </tr>\n",
       "  </tbody>\n",
       "</table>\n",
       "</div>"
      ],
      "text/plain": [
       "   family_status_id  debt  total  debt_share          family_status\n",
       "0                 4   274   2810         9.8  не женат / не замужем\n",
       "1                 1   388   4163         9.3       гражданский брак\n",
       "2                 0   931  12344         7.5        женат / замужем\n",
       "3                 3    85   1195         7.1              в разводе\n",
       "4                 2    63    959         6.6         вдовец / вдова"
      ]
     },
     "metadata": {},
     "output_type": "display_data"
    }
   ],
   "source": [
    "pivot_family = def_pivot('family_status_id')  # используем уже созданную функцию def_pivot с новым аргументом family_status_id\n",
    "pivot_family = pivot_family.merge(family_status, how = 'left', on = 'family_status_id') # добавляем семейное положение из ранее созданного справочника family_status\n",
    "display(pivot_family)"
   ]
  },
  {
   "cell_type": "markdown",
   "id": "bc5571df",
   "metadata": {},
   "source": [
    "**Выводы**\n",
    "\n",
    "Самая большая доля задолженности по кредитам наблюдается у заемщиков, не состоящих в браке. При этом меньше всего проблем с возвратом кредитов имеют разведенные заемщики, а также заемщики вдовцы/вдовы. Можно предположить, что неженатые заемщики более легкомысленно подходят к взятию кредита и соблюдению сроков его погашения. В свою очередь, женатые/разведенные заемщики, а тем более заемщики-вдовы/вдовцы более осознанно подходят к такому решению и стараются не допустить возникновение задолженности.\n",
    "\n",
    "Можно сделать вывод, что возврат кредита в срок зависит от семейного положения, гипотеза подтвердилась."
   ]
  },
  {
   "cell_type": "markdown",
   "id": "a3429922",
   "metadata": {},
   "source": [
    "**3. Есть ли зависимость между уровнем дохода и возвратом кредита в срок?**\n",
    "\n",
    "Исходная гипотеза: Заемщики с более низкими уровнями дохода склонны задерживать выплаты по кредитам, заемщики с более высокими уровнями дохода допускают меньше просрочек по кредитам."
   ]
  },
  {
   "cell_type": "markdown",
   "id": "6f515a25",
   "metadata": {},
   "source": [
    "Построим сводную таблицу с детализацией по уровню дохода"
   ]
  },
  {
   "cell_type": "code",
   "execution_count": 36,
   "id": "6bbe8a38",
   "metadata": {},
   "outputs": [
    {
     "data": {
      "text/html": [
       "<div>\n",
       "<style scoped>\n",
       "    .dataframe tbody tr th:only-of-type {\n",
       "        vertical-align: middle;\n",
       "    }\n",
       "\n",
       "    .dataframe tbody tr th {\n",
       "        vertical-align: top;\n",
       "    }\n",
       "\n",
       "    .dataframe thead th {\n",
       "        text-align: right;\n",
       "    }\n",
       "</style>\n",
       "<table border=\"1\" class=\"dataframe\">\n",
       "  <thead>\n",
       "    <tr style=\"text-align: right;\">\n",
       "      <th></th>\n",
       "      <th>debt</th>\n",
       "      <th>total</th>\n",
       "      <th>debt_share</th>\n",
       "    </tr>\n",
       "    <tr>\n",
       "      <th>total_income_category</th>\n",
       "      <th></th>\n",
       "      <th></th>\n",
       "      <th></th>\n",
       "    </tr>\n",
       "  </thead>\n",
       "  <tbody>\n",
       "    <tr>\n",
       "      <th>E</th>\n",
       "      <td>2</td>\n",
       "      <td>22</td>\n",
       "      <td>9.1</td>\n",
       "    </tr>\n",
       "    <tr>\n",
       "      <th>C</th>\n",
       "      <td>1360</td>\n",
       "      <td>16033</td>\n",
       "      <td>8.5</td>\n",
       "    </tr>\n",
       "    <tr>\n",
       "      <th>A</th>\n",
       "      <td>2</td>\n",
       "      <td>25</td>\n",
       "      <td>8.0</td>\n",
       "    </tr>\n",
       "    <tr>\n",
       "      <th>B</th>\n",
       "      <td>356</td>\n",
       "      <td>5041</td>\n",
       "      <td>7.1</td>\n",
       "    </tr>\n",
       "    <tr>\n",
       "      <th>D</th>\n",
       "      <td>21</td>\n",
       "      <td>350</td>\n",
       "      <td>6.0</td>\n",
       "    </tr>\n",
       "  </tbody>\n",
       "</table>\n",
       "</div>"
      ],
      "text/plain": [
       "                       debt  total  debt_share\n",
       "total_income_category                         \n",
       "E                         2     22         9.1\n",
       "C                      1360  16033         8.5\n",
       "A                         2     25         8.0\n",
       "B                       356   5041         7.1\n",
       "D                        21    350         6.0"
      ]
     },
     "metadata": {},
     "output_type": "display_data"
    }
   ],
   "source": [
    "display(def_pivot('total_income_category')) # используем уже созданную функцию def_pivot с новым аргументом total_income_category"
   ]
  },
  {
   "cell_type": "markdown",
   "id": "fefa4dc4",
   "metadata": {},
   "source": [
    "**Выводы**\n",
    "\n",
    "Полученная таблица показывает распределение заемщиков по уровню дохода, а также долю должников в каждой выделенной категории заемщиков. Категория \"А\" - клиенты с самым высоким уровнем дохода, соответственно, категория \"Е\" - клиенты с самым низкким уровнем дохода. Наибольшая доля должников в категории \"Е\", при этом лучше всего возвращают кредиты заемщики из категории \"D\", которая также характеризуется невысоким уровнем дохода.\n",
    "\n",
    "Количество заемщиков неравномерно распределено по категориям. Количество заемщиков в категориях \"E\" и \"А\" очень низкое по сравнению с количеством заемщиков в других категориях. В случае категории \"Е\" это может быть вызвано редким одобрением кредита, а в случае категории \"А\", видимо, у обеспеченных людей реже возникает потребность в кредите. \n",
    "\n",
    "При этом гипотеза о том, что заемщики с более высоким уровнем дохода будут реже иметь задолженность по кредитам не подтвердилась, видимо, с ростом дохода растет и сумма кредита.  Зависимости между уровнем дохода и возвратом кредите в срок не наблюдается."
   ]
  },
  {
   "cell_type": "markdown",
   "id": "cee56fb8",
   "metadata": {},
   "source": [
    "**4. Как разные цели кредита влияют на его возврат в срок?**\n",
    "\n",
    "Исходная гипотеза: Разные цели кредита влияют на возврат кредита в срок."
   ]
  },
  {
   "cell_type": "markdown",
   "id": "594bd66d",
   "metadata": {},
   "source": [
    "Построим сводную таблицу с детализацией по цели кредита"
   ]
  },
  {
   "cell_type": "code",
   "execution_count": 37,
   "id": "b5c406f9",
   "metadata": {},
   "outputs": [
    {
     "data": {
      "text/html": [
       "<div>\n",
       "<style scoped>\n",
       "    .dataframe tbody tr th:only-of-type {\n",
       "        vertical-align: middle;\n",
       "    }\n",
       "\n",
       "    .dataframe tbody tr th {\n",
       "        vertical-align: top;\n",
       "    }\n",
       "\n",
       "    .dataframe thead th {\n",
       "        text-align: right;\n",
       "    }\n",
       "</style>\n",
       "<table border=\"1\" class=\"dataframe\">\n",
       "  <thead>\n",
       "    <tr style=\"text-align: right;\">\n",
       "      <th></th>\n",
       "      <th>debt</th>\n",
       "      <th>total</th>\n",
       "      <th>debt_share</th>\n",
       "    </tr>\n",
       "    <tr>\n",
       "      <th>purpose_category</th>\n",
       "      <th></th>\n",
       "      <th></th>\n",
       "      <th></th>\n",
       "    </tr>\n",
       "  </thead>\n",
       "  <tbody>\n",
       "    <tr>\n",
       "      <th>операции с автомобилем</th>\n",
       "      <td>403</td>\n",
       "      <td>4308</td>\n",
       "      <td>9.4</td>\n",
       "    </tr>\n",
       "    <tr>\n",
       "      <th>получение образования</th>\n",
       "      <td>370</td>\n",
       "      <td>4014</td>\n",
       "      <td>9.2</td>\n",
       "    </tr>\n",
       "    <tr>\n",
       "      <th>проведение свадьбы</th>\n",
       "      <td>186</td>\n",
       "      <td>2335</td>\n",
       "      <td>8.0</td>\n",
       "    </tr>\n",
       "    <tr>\n",
       "      <th>операции с недвижимостью</th>\n",
       "      <td>782</td>\n",
       "      <td>10814</td>\n",
       "      <td>7.2</td>\n",
       "    </tr>\n",
       "  </tbody>\n",
       "</table>\n",
       "</div>"
      ],
      "text/plain": [
       "                          debt  total  debt_share\n",
       "purpose_category                                 \n",
       "операции с автомобилем     403   4308         9.4\n",
       "получение образования      370   4014         9.2\n",
       "проведение свадьбы         186   2335         8.0\n",
       "операции с недвижимостью   782  10814         7.2"
      ]
     },
     "metadata": {},
     "output_type": "display_data"
    }
   ],
   "source": [
    "display(def_pivot('purpose_category')) # используем уже созданную функцию def_pivot с новым аргументом purpose_category"
   ]
  },
  {
   "cell_type": "markdown",
   "id": "51fc18f0",
   "metadata": {},
   "source": [
    "**Выводы**\n",
    "\n",
    "Распределение заемщиков по категориям цели кредита более равномерное. Самая большая доля просрочек по выплате кредитов среди заемщиков с целью кредита \"операции с автомобилем\", а самая низкая среди заемщиков с целью \"операции с недвижимостью\". \n",
    "* Высокую долю невозвратов кредита на автомобиль в срок можно объяснить тем, что  покупка автомобиля зачастую сопряжена с дополнительными расходами (покупка резины, установка доп. оборудования и т.п.), не говоря уже о риске повреждении автомобиля в случае аварии и сопряженными с этим финансовыми затратами\n",
    "* В случае получения образования также существуют риски того, что у заемщика не получится трудоустроиться в намеченный срок, что в итоге приведет к задержке выплаты кредита\n",
    "* Проведение свадьбы предполагает традиционно предполагает покрытие части расходов за счет подарков гостей, бюджет свадьбы фиксирован и риски невозврата кредита в срок ниже, чем в двух предыдущих вариантах\n",
    "* Операции с недвижимостью - это ответственный шаг, также часто заемщики оформляют вместе с ипотекой страховку на случай потери трудоспособности. Это может объяснять более низкий процент задержек по выплате кредитов в случае операций с недвижимостью.\n",
    "\n",
    "Гипотеза о наличии зависимости между целью кредита и возвратом кредита в срок подтвердилась."
   ]
  },
  {
   "cell_type": "markdown",
   "id": "912b6f75",
   "metadata": {},
   "source": [
    "## Итоги исследования"
   ]
  },
  {
   "cell_type": "markdown",
   "id": "d273d046",
   "metadata": {},
   "source": [
    "Мы проверили гипотезы, сформулированные в начале исследования:\n",
    "\n",
    "1. Есть ли зависимость между количеством детей и возвратом кредита в срок?\n",
    "\n",
    "Наличие детей увеличивает вероятность задержки выплаты по кредиту. Но прямой взаимосвязи между количеством детей и задержкой платежа по кредиту не установлено.\n",
    "\n",
    "2. Есть ли зависимость между семейным положением и возвратом кредита в срок?\n",
    "\n",
    "Заемщики, не состоящие в браке склонны задерживать выплаты по кредиту по сравнению с женатыми/замужними, либо разведенными заемщиками. Самый низкая доля должников среди вдов/вдовцов. Таким образом между семейным положиением и возвратом кредита в срок существует зависимость.\n",
    "\n",
    "3. Есть ли зависимость между уровнем дохода и возвратом кредита в срок?\n",
    "\n",
    "Заемщики с самым низким уровнем дохода хуже остальных возвращают криедиты. Однако в дальнейшем гипотеза не нашла подтверждения, уровень дохода практически не влияет на возврат кредита в срок.\n",
    "\n",
    "4. Как разные цели кредита влияют на его возврат в срок?\n",
    "\n",
    "В зависимости от цели кредита меняется доля заемщиков, которые возвращают его в срок. Операции с недвижимостью характеризуется самым низким уровнем просрочек по кредитам, в то время как доля должников по операциям с автомобилем наибольшая. \n",
    "\n",
    "Исходная гипотеза о влиянии целей кредита на его возврат в срок подтвердилась.\n",
    "\n"
   ]
  }
 ],
 "metadata": {
  "kernelspec": {
   "display_name": "Python 3 (ipykernel)",
   "language": "python",
   "name": "python3"
  },
  "language_info": {
   "codemirror_mode": {
    "name": "ipython",
    "version": 3
   },
   "file_extension": ".py",
   "mimetype": "text/x-python",
   "name": "python",
   "nbconvert_exporter": "python",
   "pygments_lexer": "ipython3",
   "version": "3.9.7"
  }
 },
 "nbformat": 4,
 "nbformat_minor": 5
}
